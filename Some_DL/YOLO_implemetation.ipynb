{
  "cells": [
    {
      "cell_type": "markdown",
      "metadata": {
        "id": "vKdcvMtSMpSg"
      },
      "source": [
        "#Майнор ИАД. Домашнее задание 3. YOLO.\n",
        "\n",
        "В этом задании вы напишете и обучите свой собственный YOLO детектор. Нужно будет разобраться со статьей: понять какого формата должна быть обучающая пара (x, y), как перевести лосс из математической формулы в питоновский код - ну и конечно понять и реализовать саму архитектуру модели.\n",
        "\n",
        "Выборка на котрой мы будем обучать модель состоит из разнообразных фотографий яблок, бананов и апельсинов. Данные скачиваем [отсюда](https://drive.google.com/file/d/1d8GSfZoWbraWCSUhX78yl4CnMFYE-5n3/view?usp=sharing).\n",
        "\n",
        "Баллы за ДЗ распределены следующим образом: \n",
        "- Выборка для YoloV1 - 2 балла\n",
        "- YOLO модель - 2 балла\n",
        "- YOLO Loss - 3 балла\n",
        "- Вспомогательные функции - 2 балла\n",
        "- Обучение и расчет метрик - 2 балла\n",
        "\n",
        "Для построения и обучения можно использовать как pytorch, так и pytorch-lightning.\n",
        "\n",
        "Да-да, баллов в сумме получается 11"
      ]
    },
    {
      "cell_type": "code",
      "execution_count": 1,
      "metadata": {
        "id": "TY4niK1xMpSg"
      },
      "outputs": [],
      "source": [
        "# Данная библиотека понадобится нам, чтобы обработать разметку\n",
        "! pip install xmltodict pytorch-lightning"
      ]
    },
    {
      "cell_type": "markdown",
      "metadata": {
        "id": "hNSQ7FNss30F"
      },
      "source": [
        "Скачаем данные"
      ]
    },
    {
      "cell_type": "code",
      "source": [
        "# ! rm -rf data"
      ],
      "metadata": {
        "id": "FCzwTewFZLzb"
      },
      "execution_count": 2,
      "outputs": []
    },
    {
      "cell_type": "code",
      "execution_count": 3,
      "metadata": {
        "id": "lN1dE6eY7PjV",
        "colab": {
          "base_uri": "https://localhost:8080/"
        },
        "outputId": "a06773c3-3a70-4910-af8a-6ce9bf29a196"
      },
      "outputs": [
        {
          "output_type": "stream",
          "name": "stdout",
          "text": [
            "replace __MACOSX/._data? [y]es, [n]o, [A]ll, [N]one, [r]ename: total 12\n",
            "drwx------ 4 root root 4096 Nov 26 08:32 data\n",
            "drwxr-xr-x 3 root root 4096 Dec 19 15:06 __MACOSX\n",
            "drwxr-xr-x 1 root root 4096 Dec 16 00:01 sample_data\n"
          ]
        }
      ],
      "source": [
        "!wget --quiet --load-cookies /tmp/cookies.txt \"https://docs.google.com/uc?export=download&confirm=$(wget --quiet --save-cookies /tmp/cookies.txt --keep-session-cookies --no-check-certificate 'https://drive.google.com/uc?export=download&id=1d8GSfZoWbraWCSUhX78yl4CnMFYE-5n3' -O- | sed -rn 's/.*confirm=([0-9A-Za-z_]+).*/\\1\\n/p')&id=1d8GSfZoWbraWCSUhX78yl4CnMFYE-5n3\" -O data.zip && rm -rf /tmp/cookies.txt\n",
        "!unzip -q data.zip\n",
        "!rm data.zip\n",
        "!ls -l"
      ]
    },
    {
      "cell_type": "markdown",
      "metadata": {
        "id": "Ep38vdW_s-Rz"
      },
      "source": [
        "Посмотрим как выглядит один из файлов разметки"
      ]
    },
    {
      "cell_type": "code",
      "execution_count": 2,
      "metadata": {
        "colab": {
          "base_uri": "https://localhost:8080/"
        },
        "id": "OqwaHl3ntBaN",
        "outputId": "5a4d17ac-dcdb-4326-ba6e-f64e139bffe4"
      },
      "outputs": [
        {
          "output_type": "stream",
          "name": "stdout",
          "text": [
            "<annotation>\n",
            "\t<folder>train</folder>\n",
            "\t<filename>apple_2.jpg</filename>\n",
            "\t<path>C:\\tensorflow1\\models\\research\\object_detection\\images\\train\\apple_2.jpg</path>\n",
            "\t<source>\n",
            "\t\t<database>Unknown</database>\n",
            "\t</source>\n",
            "\t<size>\n",
            "\t\t<width>250</width>\n",
            "\t\t<height>250</height>\n",
            "\t\t<depth>3</depth>\n",
            "\t</size>\n",
            "\t<segmented>0</segmented>\n",
            "\t<object>\n",
            "\t\t<name>apple</name>\n",
            "\t\t<pose>Unspecified</pose>\n",
            "\t\t<truncated>0</truncated>\n",
            "\t\t<difficult>0</difficult>\n",
            "\t\t<bndbox>\n",
            "\t\t\t<xmin>37</xmin>\n",
            "\t\t\t<ymin>52</ymin>\n",
            "\t\t\t<xmax>205</xmax>\n",
            "\t\t\t<ymax>222</ymax>\n",
            "\t\t</bndbox>\n",
            "\t</object>\n",
            "</annotation>\n"
          ]
        }
      ],
      "source": [
        "!cat data/train/boxes/apple_2.xml"
      ]
    },
    {
      "cell_type": "markdown",
      "metadata": {
        "id": "QdQxrA5_MpSg"
      },
      "source": [
        "## Релизуйте выборку для YoloV1 - 2 балла"
      ]
    },
    {
      "cell_type": "code",
      "execution_count": 3,
      "metadata": {
        "id": "QXG9reop-BkS"
      },
      "outputs": [],
      "source": [
        "import os\n",
        "import cv2\n",
        "import json\n",
        "import glob\n",
        "import tqdm\n",
        "import xmltodict\n",
        "\n",
        "from IPython.core.display import struct\n",
        "\n",
        "from typing import List\n",
        "\n",
        "import pandas as pd\n",
        "import numpy as np\n",
        "\n",
        "import torch\n",
        "import torchvision\n",
        "from torch import nn\n",
        "from torch.nn import functional as F\n",
        "from torch.utils.data import Dataset, DataLoader\n",
        "\n",
        "import pytorch_lightning as pl\n",
        "\n",
        "import albumentations as A\n",
        "import albumentations.pytorch\n",
        "\n",
        "from PIL import Image\n",
        "\n",
        "import matplotlib.pyplot as plt\n",
        "\n",
        "from sklearn.metrics import auc\n",
        "\n",
        "import collections\n",
        "\n",
        "from pathlib import Path\n",
        "# Добавьте необходимые вам библиотеки, если их не окажется в списке выше"
      ]
    },
    {
      "cell_type": "markdown",
      "metadata": {
        "id": "2gL8_CyyTYJ-"
      },
      "source": [
        "Так как в этом домашнем задании использовать аугментации для обучения __обязательно__ - советуем воспользоваться библиотекой albumentations.\n",
        "\n",
        "Она  особенно удобна, поскольку умеет сама вычислять новые координаты bounding box'ов после трансформаций картинки. Для знакомства с этим механизмом советуем следующий [гайд](https://albumentations.ai/docs/getting_started/bounding_boxes_augmentation/). \n",
        "\n",
        "Вы все еще можете избрать путь torchvision.transforms, вам потребуется знакомый нам метод `__getitem__`, однако вычислять новые координаты bounding box'ов после трансформаций вам придётся вручную\n",
        "\n",
        "__Обратите внимание__ на то, что в статье коробки предсказаний параметризуются через: _(x_center, y_center, width, height)_ (причем эти значения _относительные_), а в наших файлах - это _(x_min, y_min, x_max, y_max)_\n",
        "\n",
        "Также, помните что модель должна предсказывать как прямоугольник с обьектом, так и вероятности каждого класса!"
      ]
    },
    {
      "cell_type": "code",
      "source": [
        "import os\n",
        "import shutil\n",
        "\n",
        "# Moving files in cetain directories\n",
        "sourcepath='./data/train'\n",
        "sourcefiles = os.listdir(sourcepath)\n",
        "destinationpath = './data/train/images'\n",
        "for file in sourcefiles:\n",
        "    if file.endswith('.jpg'):\n",
        "        shutil.move(os.path.join(sourcepath,file), os.path.join(destinationpath,file))\n",
        "\n",
        "\n",
        "sourcepath='./data/train'\n",
        "sourcefiles = os.listdir(sourcepath)\n",
        "destinationpath = './data/train/boxes'\n",
        "for file in sourcefiles:\n",
        "    if file.endswith('.xml'):\n",
        "        shutil.move(os.path.join(sourcepath,file), os.path.join(destinationpath,file))\n",
        "\n",
        "sourcepath='./data/test'\n",
        "sourcefiles = os.listdir(sourcepath)\n",
        "destinationpath = './data/test/images'\n",
        "for file in sourcefiles:\n",
        "    if file.endswith('.jpg'):\n",
        "        shutil.move(os.path.join(sourcepath,file), os.path.join(destinationpath,file))\n",
        "\n",
        "sourcepath='./data/test'\n",
        "sourcefiles = os.listdir(sourcepath)\n",
        "destinationpath = './data/test/boxes'\n",
        "for file in sourcefiles:\n",
        "    if file.endswith('.xml'):\n",
        "        shutil.move(os.path.join(sourcepath,file), os.path.join(destinationpath,file))"
      ],
      "metadata": {
        "id": "9p2ap_82p4RR"
      },
      "execution_count": 4,
      "outputs": []
    },
    {
      "cell_type": "code",
      "execution_count": 5,
      "metadata": {
        "id": "tjZkU0vzMpSh"
      },
      "outputs": [],
      "source": [
        "class2tag = {\"apple\": 1, \"orange\": 2, \"banana\": 3}\n",
        "\n",
        "class FruitDataset(Dataset):\n",
        "    def __len__(self):\n",
        "          return len(self.box_paths)\n",
        "    def __init__(self, data_dir, transforms=None):\n",
        "      self.image_paths = []\n",
        "      self.box_paths = []\n",
        "\n",
        "      for root, dirs, files in os.walk(os.path.abspath(data_dir + '/images')):\n",
        "        for file in files:\n",
        "            self.image_paths.append(os.path.join(root, file))\n",
        "\n",
        "      for root, dirs, files in os.walk(os.path.abspath(data_dir + '/boxes')):\n",
        "        for file in files:\n",
        "            self.box_paths.append(os.path.join(root, file))\n",
        "      \n",
        "      \n",
        "      self.image_paths.sort()\n",
        "      self.box_paths.sort()\n",
        "\n",
        "      assert len(self.image_paths) == len(self.box_paths)\n",
        "\n",
        "      self.transforms = transforms\n",
        "\n",
        "    # Координаты прямоугольников советуем вернуть именно в формате (x_center, y_center, width, height)\n",
        "    def __getitem__(self, idx):              \n",
        "      image = np.array(Image.open(self.image_paths[idx]).convert(\"RGB\"))\n",
        "      boxes, class_labels = self.__get_boxes_from_xml(self.box_paths[idx])\n",
        "\n",
        "      resbo = []\n",
        "      for i, item in enumerate(boxes):\n",
        "        resbo.append(self.__convert_to_yolo_box_params(item, len(image[i]), len(image)))\n",
        "\n",
        "      if self.transforms:\n",
        "        image = self.transforms(image=image, bboxes=resbo, class_labels=class_labels)[\"image\"]\n",
        "\n",
        "      target_tensor = torch.zeros((7, 7, 3 + 5 * 2))\n",
        "      counter = 0\n",
        "      for box in resbo:\n",
        "        class_label = class_labels[counter]\n",
        "        counter += 1\n",
        "        class_label = class2tag[class_label]\n",
        "\n",
        "        if (target_tensor[int(7 * box[0]), int(7 * box[1]), 3] == 0):\n",
        "          target_tensor[int(7 * box[0]), int(7 * box[1]), 3] = 1 # first box on this place\n",
        "          target_tensor[int(7 * box[0]), int(7 * box[1]), 4:8] = torch.tensor(box) # first box on this place\n",
        "        else:\n",
        "          target_tensor[int(7 * box[0]), int(7 * box[1]), 8] = 1 # if some object already here\n",
        "          target_tensor[int(7 * box[0]), int(7 * box[1]), 9:13] = torch.tensor(box)\n",
        "\n",
        "        target_tensor[int(7 * box[0]), int(7 * box[1]), class_label - 1] += 1 # we start from 1 (apples)\n",
        "\n",
        "      return torch.reshape(torch.unsqueeze(torch.from_numpy(image).to(\"cpu\"), 0), (3, 448, 448)).float(), target_tensor\n",
        "\n",
        "\n",
        "    def __get_boxes_from_xml(self, xml_filename: str):\n",
        "      \"\"\"\n",
        "      Метод, который считает и распарсит (с помощью xmltodict) переданный xml\n",
        "      файл и вернет координаты прямоугольников обьектов на соответсвующей фотографии\n",
        "      и название класса обьекта в каждом прямоугольнике\n",
        "\n",
        "      Обратите внимание, что обьектов может быть как несколько, так и один единственный\n",
        "      \"\"\"\n",
        "      boxes = []\n",
        "      class_labels = []\n",
        "      \n",
        "      with open(xml_filename) as fd:\n",
        "        doc = xmltodict.parse(fd.read())\n",
        "\n",
        "      try:\n",
        "        for artikel in doc['annotation']['object']:\n",
        "          class_labels.append(artikel['name'])\n",
        "        for artikel in doc['annotation']['object']:\n",
        "          lines = []\n",
        "          lines.append(artikel['bndbox'])\n",
        "          for line in lines:\n",
        "            reser = []\n",
        "            reser.append(int(line['xmin']))\n",
        "            reser.append(int(line['ymin']))\n",
        "            reser.append(int(line['xmax']))\n",
        "            reser.append(int(line['ymax']))\n",
        "            boxes.append(reser)\n",
        "      except:\n",
        "        class_labels.append(doc['annotation']['object']['name'])\n",
        "        line = doc['annotation']['object']['bndbox']\n",
        "        reser = []\n",
        "        reser.append(int(line['xmin']))\n",
        "        reser.append(int(line['ymin']))\n",
        "        reser.append(int(line['xmax']))\n",
        "        reser.append(int(line['ymax']))\n",
        "        boxes.append(reser)\n",
        "\n",
        "      return boxes, class_labels\n",
        "\n",
        "    def __convert_to_yolo_box_params(self, box_coordinates: List[int], im_w, im_h):\n",
        "      \"\"\"\n",
        "      Перейти от [xmin, ymin, xmax, ymax] к [x_center, y_center, width, height].\n",
        "      \n",
        "      Обратите внимание, что параметры [x_center, y_center, width, height] - это\n",
        "      относительные значение в отрезке [0, 1]\n",
        "\n",
        "      :param: box_coordinates - координаты коробки в формате [xmin, ymin, xmax, ymax]\n",
        "      :param: im_w - ширина исходного изображения\n",
        "      :param: im_h - высота исходного изображения\n",
        "\n",
        "      :return: координаты коробки в формате [x_center, y_center, width, height]\n",
        "      \"\"\"\n",
        "      ans = []\n",
        "\n",
        "      ans.append((box_coordinates[0] + box_coordinates[2]) / 2 / im_w)  # x_center\n",
        "      ans.append((box_coordinates[1] + box_coordinates[3]) / 2 / im_h)  # y_center\n",
        "    \n",
        "      ans.append((box_coordinates[2] - box_coordinates[0]) / im_w)  # width\n",
        "      ans.append((box_coordinates[3] - box_coordinates[1]) / im_h)  # height\n",
        "\n",
        "      return ans"
      ]
    },
    {
      "cell_type": "code",
      "execution_count": 6,
      "metadata": {
        "id": "OwXeSiAjdGeq"
      },
      "outputs": [],
      "source": [
        "WIDTH, HEIGHT = 448, 448\n",
        "\n",
        "train_transform = A.Compose([\n",
        "    A.Resize(width=WIDTH, height=HEIGHT, always_apply=True),\n",
        "    A.HorizontalFlip(p=0.5),\n",
        "    A.RandomBrightnessContrast(p=0.2),\n",
        "    ],\n",
        "    bbox_params=A.BboxParams(format='yolo',label_fields=['class_labels']))\n",
        "test_transform = A.Compose([\n",
        "    A.Resize(width=WIDTH, height=HEIGHT, always_apply=True),\n",
        "    A.HorizontalFlip(p=0.5),\n",
        "    A.RandomBrightnessContrast(p=0.2),\n",
        "    ],\n",
        "    bbox_params=A.BboxParams(format='yolo',label_fields=['class_labels']))"
      ]
    },
    {
      "cell_type": "code",
      "execution_count": 7,
      "metadata": {
        "colab": {
          "base_uri": "https://localhost:8080/"
        },
        "id": "ayPwbRKocdCE",
        "outputId": "0247e5e2-4ce5-494a-f92f-4d6808594f15"
      },
      "outputs": [
        {
          "output_type": "stream",
          "name": "stdout",
          "text": [
            "Тесты успешно пройдены\n"
          ]
        }
      ],
      "source": [
        "train_dataset = FruitDataset(\n",
        "    transforms=train_transform,\n",
        "    data_dir=\"./data/train\"\n",
        "    )\n",
        "\n",
        "val_dataset = FruitDataset(\n",
        "    transforms=test_transform, \n",
        "    data_dir=\"./data/test\"\n",
        "    )\n",
        "\n",
        "# Немного проверок, чтобы убедиться в правильности направления решения\n",
        "assert isinstance(train_dataset[0], tuple)\n",
        "assert len(train_dataset[0]) == 2\n",
        "assert isinstance(train_dataset[0][1], torch.Tensor)\n",
        "print(\"Тесты успешно пройдены\")"
      ]
    },
    {
      "cell_type": "code",
      "execution_count": 8,
      "metadata": {
        "id": "9V1Tl_GAdeIv"
      },
      "outputs": [],
      "source": [
        "train_dataloader = DataLoader(\n",
        "    dataset=train_dataset,\n",
        "    batch_size= 4,\n",
        "    shuffle=True)\n",
        "\n",
        "val_dataloader = DataLoader(\n",
        "    dataset=val_dataset,\n",
        "    batch_size=4, \n",
        "    shuffle=False\n",
        "    )"
      ]
    },
    {
      "cell_type": "markdown",
      "metadata": {
        "id": "0fRR9ns6MpSh"
      },
      "source": [
        "Теперь определим функцию для рассчета Intersection Over Union по 4 углам двух прямоугольников"
      ]
    },
    {
      "cell_type": "code",
      "source": [
        "def intersection_over_union(predicted_bbox, gt_bbox) -> float:\n",
        "    \"\"\"\n",
        "    Intersection Over Union для двух прямоугольников\n",
        "\n",
        "    :param: predicted_bbox - [x_min, y_min, x_max, y_max]\n",
        "    :param: gt_bbox - [x_min, y_min, x_max, y_max]\n",
        "    \n",
        "    :return: Intersection Over Union\n",
        "    \"\"\"\n",
        "    intersection_bbox = torch.stack(\n",
        "        [\n",
        "            torch.max(predicted_bbox[..., 0:1], gt_bbox[..., 0:1]),\n",
        "            torch.max(predicted_bbox[..., 1:2], gt_bbox[..., 1:2]),\n",
        "            torch.min(predicted_bbox[..., 2:3], gt_bbox[..., 2:3]),\n",
        "            torch.min(predicted_bbox[..., 3:4], gt_bbox[..., 3:4]),\n",
        "        ]\n",
        "    )\n",
        "    intersection = (intersection_bbox[2] - intersection_bbox[0]).clamp(0) * (intersection_bbox[3] - intersection_bbox[1]).clamp(0)\n",
        "\n",
        "    box1_area = abs((predicted_bbox[..., 2:3] - predicted_bbox[..., 0:1]) *\n",
        "                    (predicted_bbox[..., 3:4] - predicted_bbox[..., 1:2]))\n",
        "    box2_area = abs((gt_bbox[..., 2:3] - gt_bbox[..., 0:1]) *\n",
        "                    (gt_bbox[..., 3:4] - gt_bbox[..., 1:2]))\n",
        "\n",
        "    return intersection / (box1_area + box2_area - intersection + 1e-6)"
      ],
      "metadata": {
        "id": "5fCThBHUEBbP"
      },
      "execution_count": 9,
      "outputs": []
    },
    {
      "cell_type": "markdown",
      "metadata": {
        "id": "dVJWo3xbMpSh"
      },
      "source": [
        "Теперь начинается основная часть домашнего задания: обучите модель YOLO для object detection на __обучающем__ датасете. \n",
        "\n",
        " - Создайте модель и функцию ошибки YoloV1 прочитав [оригинальную статью](https://paperswithcode.com/paper/you-only-look-once-unified-real-time-object)\n",
        " - Напишите функцию обучения модели\n",
        " - Используйте аугментации"
      ]
    },
    {
      "cell_type": "markdown",
      "metadata": {
        "id": "RxfMVwzHW2MJ"
      },
      "source": [
        "## Реализуйте Модель - 2 балла\n",
        "\n",
        "Копировать точное количество слоев и параметры сверток необязательно. Главное - чтобы модель работала по принципу, описанному в статье и делала предсказание в представленном формате.\n",
        "\n",
        "\n",
        "В качестве подсказки напомним, что выходом модели __для каждого обьекта__ должен быть тензор размера\n",
        "__S * S * (B * 5 + С)__, где все параметры имеют такое же значение, как и в статье: \n",
        "\n",
        "- S - количество ячеек на которое разбивается изображение по вертикали/горизонтали\n",
        "- В - количество предсказываемых прямоугольников в каждой ячейке\n",
        "- 5 - количество параметров для определения каждого прямоугольника (x_center, y_center, width, height, confidence)\n",
        "- С - количество классов (apple, banana, orange)\n",
        "\n",
        "Таким образом, мы для каждого окна размера __S x S__ предсказываем __В__ коробо и один класс"
      ]
    },
    {
      "cell_type": "code",
      "execution_count": 10,
      "metadata": {
        "id": "3PJwrvcWW1n7"
      },
      "outputs": [],
      "source": [
        "class CNNBlock(nn.Module):  # можно поменять на Lightning\n",
        "    def __init__(self, in_channels, out_channels, is_max_pool:bool=False, **kwargs):\n",
        "        \n",
        "        super().__init__()\n",
        "\n",
        "        self.conv = nn.Conv2d(in_channels, out_channels, **kwargs)\n",
        "        self.batchnorm = nn.BatchNorm2d(out_channels)  # в статье еще не знали про батчнорм, но мы то из будущего ...\n",
        "        self.leakyrelu = nn.LeakyReLU(0.1)\n",
        "\n",
        "        self.is_maxpool = is_max_pool  # не после каждой свертки нужно делать maxpool\n",
        "        self.maxpool = nn.MaxPool2d(2)\n",
        "        \n",
        "    def forward(self, x):\n",
        "        x = self.leakyrelu(self.batchnorm(self.conv(x)))\n",
        "\n",
        "        if self.is_maxpool:\n",
        "            x = self.maxpool(x)\n",
        "\n",
        "        return x\n",
        "    \n",
        "class YOLO(nn.Module):\n",
        "    def __init__(self, S=7, B=2, C=3):\n",
        "        \"\"\"\n",
        "        :param: S * S - количество ячеек на которые разбивается изображение\n",
        "        :param: B - количество предсказанных прямоугольников в каждой ячейке\n",
        "        :param: C - количество классов\n",
        "        \"\"\"\n",
        "        \n",
        "        super(YOLO, self).__init__()\n",
        "\n",
        "        self.S = S\n",
        "        self.B = B\n",
        "        self.C = C\n",
        "\n",
        "        ## YOUR CODE\n",
        "\n",
        "        self.layers = nn.Sequential(\n",
        "            CNNBlock(3, 64, True, kernel_size=7, stride=2, padding=3),\n",
        "            CNNBlock(64, 192, True, kernel_size=3, stride=1, padding=1),\n",
        "\n",
        "            CNNBlock(192, 128, False, kernel_size=1, stride=1, padding=0),\n",
        "            CNNBlock(128, 256, False, kernel_size=3, stride=1, padding=1),\n",
        "            CNNBlock(256, 256, False, kernel_size=1, stride=1, padding=0),\n",
        "            CNNBlock(256, 512, True, kernel_size=3, stride=1, padding=1),\n",
        "\n",
        "            CNNBlock(512, 256, False, kernel_size=1, stride=1, padding=0),\n",
        "            CNNBlock(256, 512, False, kernel_size=3, stride=1, padding=1),\n",
        "            CNNBlock(512, 256, False, kernel_size=1, stride=1, padding=0),\n",
        "            CNNBlock(256, 512, False, kernel_size=3, stride=1, padding=1),\n",
        "            CNNBlock(512, 256, False, kernel_size=1, stride=1, padding=0),\n",
        "            CNNBlock(256, 512, False, kernel_size=3, stride=1, padding=1),\n",
        "            CNNBlock(512, 256, False, kernel_size=1, stride=1, padding=0),\n",
        "            CNNBlock(256, 512, False, kernel_size=3, stride=1, padding=1),\n",
        "            CNNBlock(512, 512, False, kernel_size=1, stride=1, padding=0),\n",
        "            CNNBlock(512, 1024, True, kernel_size=3, stride=1, padding=1),\n",
        "\n",
        "            CNNBlock(1024, 512, False, kernel_size=1, stride=1, padding=0),\n",
        "            CNNBlock(512, 1024, False, kernel_size=3, stride=1, padding=1),\n",
        "            CNNBlock(1024, 512, False, kernel_size=1, stride=1, padding=0),\n",
        "            CNNBlock(512, 1024, False, kernel_size=3, stride=1, padding=1),\n",
        "            CNNBlock(1024, 1024, False, kernel_size=3, stride=1, padding=1),\n",
        "\n",
        "            CNNBlock(1024, 1024, False, kernel_size=3, stride=2, padding=1),\n",
        "\n",
        "            CNNBlock(1024, 1024, False, kernel_size=3, stride=1, padding=1),\n",
        "            CNNBlock(1024, 1024, False, kernel_size=3, stride=1, padding=1),\n",
        "        )\n",
        "\n",
        "        self.layers_last = nn.Sequential(\n",
        "            nn.Flatten(),\n",
        "            nn.Linear(1024*S*S, 4096),\n",
        "            nn.Dropout(0.5),\n",
        "            nn.LeakyReLU(0.1),\n",
        "            nn.Linear(4096, S*S*(C+B*5)),\n",
        "        )\n",
        "\n",
        "        \n",
        "        ## YOUR CODE\n",
        "\n",
        "    def forward(self, x):\n",
        "        x = self.layers_last(self.layers(x))\n",
        "        return x\n",
        "\n",
        "\n",
        "# Убедитесь на одном изображении, что предсказания вашей модели имеют верное количество значений\n",
        "\n",
        "#testing_model = YOLO()\n",
        "#expected_output_shape = testing_model.S * testing_model.S * (5 * testing_model.B + testing_model.C)\n",
        "\n",
        "#testing_image = train_dataset[0][0]\n",
        "\n",
        "#assert testing_model(testing_image).reshape(-1).shape[0] == expected_output_shape"
      ]
    },
    {
      "cell_type": "markdown",
      "metadata": {
        "id": "OJIjWKbcYUYe"
      },
      "source": [
        "## Реализуйте YoloLoss - 3 балла"
      ]
    },
    {
      "cell_type": "code",
      "execution_count": 41,
      "metadata": {
        "id": "TwJZ7o0BYTbB"
      },
      "outputs": [],
      "source": [
        "class YoloLoss(nn.Module):\n",
        "    def __init__(self, S=7, B=2, C=3):\n",
        "        \"\"\"\n",
        "        :param: S * S - количество ячеек на которые разбивается изображение\n",
        "        :param: B - количество предсказанных прямоугольников в каждой ячейке\n",
        "        :param: C - количество классов\n",
        "        \"\"\"\n",
        "        \n",
        "        super().__init__()\n",
        "        self.mse = nn.MSELoss(reduction=\"sum\")\n",
        "\n",
        "        self.S = S\n",
        "        self.B = B\n",
        "        self.C = C\n",
        "\n",
        "        self.lambda_noobj = 0.5\n",
        "        self.lambda_coord = 5\n",
        "\n",
        "    def forward(self, predictions, target):\n",
        "        predictions = predictions.reshape(-1, 7, 7, 3 + 2 * 5)\n",
        "\n",
        "        iou_b1 = intersection_over_union(predictions[..., 4:8], target[..., 4:8]) # first box intersection\n",
        "        iou_b2 = intersection_over_union(predictions[..., 9:13], target[..., 4:8]) # second box intersection\n",
        "        iou_b3 = intersection_over_union(predictions[..., 4:8], target[..., 9:13]) # first box intersection\n",
        "        iou_b4 = intersection_over_union(predictions[..., 9:13], target[..., 9:13]) # second box intersection\n",
        "        ious = torch.cat([iou_b1.unsqueeze(0), iou_b2.unsqueeze(0), iou_b3.unsqueeze(0), iou_b4.unsqueeze(0)], dim=0)\n",
        "        iou_maxes, bestbox = torch.max(ious, dim=0)\n",
        "\n",
        "        first_box = target[..., 3].unsqueeze(3)\n",
        "        second_box = target[..., 8].unsqueeze(3)\n",
        "\n",
        "         # check if box really exists in cell\n",
        "        a = 0\n",
        "        iser = 0\n",
        "        if (first_box.nelement() != 0):\n",
        "          iser = 1\n",
        "          box_targets = target[..., 4:8]\n",
        "          a = 1\n",
        "        if (second_box.nelement() != 0):\n",
        "          iser = 1\n",
        "          box_targets = target[..., 9:13]\n",
        "          a = 2\n",
        "\n",
        "        box_predictions = iser * (\n",
        "            (\n",
        "                bestbox * predictions[..., 4:8]\n",
        "                + (1-bestbox) * predictions[..., 9:13]\n",
        "            )\n",
        "        )\n",
        "\n",
        "        # loss for width and height\n",
        "        box_predictions[..., 2:4] = torch.sign(box_predictions[..., 2:4]) * torch.sqrt(\n",
        "            torch.abs(box_predictions[..., 2:4] + 1e-6)\n",
        "        )\n",
        "\n",
        "        box_targets[..., 2:4] = torch.sqrt(box_targets[..., 2:4])\n",
        "\n",
        "        box_loss = self.mse(\n",
        "            torch.flatten(box_predictions, end_dim=-2),\n",
        "            torch.flatten(box_targets, end_dim=-2)\n",
        "        )\n",
        "\n",
        "        # check if wrong object\n",
        "        if (predictions[..., 3].nelement() != 0):\n",
        "          pr_b = 1\n",
        "        if (predictions[..., 8].nelement() != 0):\n",
        "          pr_b = 1\n",
        "\n",
        "\n",
        "        if (a == 1):\n",
        "          q = torch.flatten(iser * target[..., 4:8] * iou_maxes)\n",
        "        if (a == 2):\n",
        "          q = torch.flatten(iser * target[..., 9:13] * iou_maxes)\n",
        "        object_loss = self.mse(\n",
        "            torch.flatten(iser * target[..., 3]),\n",
        "            q\n",
        "        )\n",
        "\n",
        "        # loss in real object wasnt found\n",
        "        no_object_loss = self.mse(\n",
        "            torch.flatten((1 - iser) * predictions[..., 3], start_dim=1),\n",
        "            torch.flatten((1 - iser) * target[..., 3], start_dim=1)\n",
        "        )\n",
        "\n",
        "        no_object_loss += self.mse(\n",
        "            torch.flatten((1 - iser) * predictions[..., 8], start_dim=1),\n",
        "            torch.flatten((1 - iser) * target[..., 8], start_dim=1)\n",
        "        )\n",
        "\n",
        "        # wrong class loss\n",
        "        class_loss = self.mse(\n",
        "            torch.flatten(iser * predictions[..., :3], end_dim=-2),\n",
        "            torch.flatten(iser * target[..., :3], end_dim=-2)\n",
        "        )\n",
        "        \n",
        "\n",
        "        loss = (\n",
        "            self.lambda_coord * box_loss\n",
        "            + object_loss\n",
        "            + self.lambda_noobj * no_object_loss\n",
        "            + class_loss\n",
        "        )\n",
        "        return loss"
      ]
    },
    {
      "cell_type": "markdown",
      "metadata": {
        "id": "aZ1eev1EeNk7"
      },
      "source": [
        "## Реализуйте дополнительные функции из статьи - 2 балла"
      ]
    },
    {
      "cell_type": "code",
      "execution_count": 37,
      "metadata": {
        "id": "OMF8e6yXU6QV"
      },
      "outputs": [],
      "source": [
        "def non_max_suppression(bboxes, iou_threshold, threshold):\n",
        "    ## YOUR CODE\n",
        "    pass\n",
        "\n",
        "def mean_average_precision(pred_boxes, true_boxes, iou_threshold=0.5):\n",
        "    ## YOUR CODE\n",
        "    pass\n",
        "\n",
        "def get_bound_boxes(loader, model, iou_threshold=.5, threshold=.4):\n",
        "    ## YOUR CODE\n",
        "    return all_pred_boxes, all_true_boxes"
      ]
    },
    {
      "cell_type": "markdown",
      "metadata": {
        "id": "z38hYLM6haDk"
      },
      "source": [
        "## Обучите модель и посчитайте метрики для задачи детекции - 2 балла \n",
        "\n",
        "Несмотря на то, что в этом блоке ничего сильно нового для вас не ожидается и за него формально дается лишь два балла - провести обучение очень важно для понимания того, насколько правильно реализована ваша модель и лосс.\n",
        "\n",
        "В процессе обучения будет видно все ли размерности совпадают, падает ли лосс и растут ли метрики целевой задачи, поэтому на практике этот пункт гораздо оказывается гораздо важнее."
      ]
    },
    {
      "cell_type": "code",
      "execution_count": 33,
      "metadata": {
        "id": "6BTNHNqtMpSi"
      },
      "outputs": [],
      "source": [
        "class YOLOLearner(pl.LightningModule):\n",
        "    def __init__(self) -> None:\n",
        "        super().__init__()\n",
        "\n",
        "        self.model = YOLO()\n",
        "        self.loss = YoloLoss()\n",
        "        self.optimizer = torch.optim.Adam(self.model.parameters(), lr=1e-3)\n",
        "\n",
        "    def forward(self, x) -> torch.Tensor:\n",
        "        return self.model(x)\n",
        "\n",
        "    def configure_optimizers(self):\n",
        "        return self.optimizer\n",
        "\n",
        "    def training_step(self, train_batch, batch_idx) -> torch.Tensor:\n",
        "        x, y = train_batch\n",
        "        logits = self(x)\n",
        "        loss = self.loss(logits, y)\n",
        "        return loss\n",
        "\n",
        "    def validation_step(self, val_batch, batch_idx) -> None:\n",
        "        x, y = val_batch\n",
        "        logits = self(x)\n",
        "        loss = self.loss(logits, y)\n",
        "        return loss"
      ]
    },
    {
      "cell_type": "code",
      "execution_count": null,
      "metadata": {
        "id": "sRl42I2xMpSi"
      },
      "outputs": [],
      "source": [
        "model = YOLO()\n",
        "n_epochs = 10\n",
        "\n",
        "yolo_learner = YOLOLearner()\n",
        "\n",
        "device = \"gpu\" if torch.cuda.is_available() else \"cpu\"\n",
        "trainer = pl.Trainer(accelerator=device, max_epochs=n_epochs)\n",
        "\n",
        "trainer.fit(yolo_learner, train_dataloader, val_dataloader)"
      ]
    },
    {
      "cell_type": "markdown",
      "metadata": {
        "id": "eb7ioohR96vu"
      },
      "source": [
        "## Посчитайте метрики задачи детекции на валидационной выборке\n",
        "\n",
        "Попробуйте понять насколько хороши ваши показатели. Если числа кажутся подозрительно низкими - возможно вам стоит перепроверить ваше решение. "
      ]
    },
    {
      "cell_type": "code",
      "execution_count": null,
      "metadata": {
        "id": "WUnlNeot98un"
      },
      "outputs": [],
      "source": [
        "## YOUR CODE"
      ]
    },
    {
      "cell_type": "markdown",
      "metadata": {
        "id": "o_YG71pYMpSi"
      },
      "source": [
        "## Визуализируйте предсказанные bounding box'ы для любых пяти картинок из __валидационного__ датасета."
      ]
    },
    {
      "cell_type": "code",
      "execution_count": null,
      "metadata": {
        "id": "WgVdVzvMMpSi"
      },
      "outputs": [],
      "source": [
        "image, targets = next(iter(val_dataset))\n",
        "preds = ## YOUR CODE"
      ]
    },
    {
      "cell_type": "code",
      "execution_count": null,
      "metadata": {
        "id": "tpp4jHs0MpSi"
      },
      "outputs": [],
      "source": [
        "from PIL import ImageDraw\n",
        "\n",
        "image = torchvision.transform.ToPILImage()(image)\n",
        "draw = ImageDraw.Draw(image)\n",
        "\n",
        "for box in targets[0]:\n",
        "    ## YOUR CODE\n",
        "    draw.rectangle([(box[0], box[1]), (box[2], box[3])])\n",
        "\n",
        "for box in preds[0]:\n",
        "    ## YOUR CODE\n",
        "    draw.rectangle([(box[0], box[1]), (box[2], box[3])], outline='red')\n",
        "image"
      ]
    }
  ],
  "metadata": {
    "colab": {
      "provenance": []
    },
    "kernelspec": {
      "display_name": "Python 3 (ipykernel)",
      "language": "python",
      "name": "python3"
    },
    "language_info": {
      "codemirror_mode": {
        "name": "ipython",
        "version": 3
      },
      "file_extension": ".py",
      "mimetype": "text/x-python",
      "name": "python",
      "nbconvert_exporter": "python",
      "pygments_lexer": "ipython3",
      "version": "3.10.8"
    }
  },
  "nbformat": 4,
  "nbformat_minor": 0
}