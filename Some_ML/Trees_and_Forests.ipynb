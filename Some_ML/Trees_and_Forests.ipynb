{
  "cells": [
    {
      "cell_type": "markdown",
      "metadata": {
        "id": "yxMPdn5bVkQA"
      },
      "source": [
        "# Интеллектуальный анализ данных – весна 2022\n",
        "\n",
        "# Домашнее задание 7: Деревья. Случайный лес\n",
        "\n",
        "Правила:\n",
        "\n",
        "- Домашнее задание оценивается в 10 баллов (+1 бонусный балл).\n",
        "\n",
        "\n",
        "- Можно использовать без доказательства любые результаты, встречавшиеся на лекциях или семинарах по курсу, если получение этих результатов не является вопросом задания.\n",
        "\n",
        "\n",
        "- Можно использовать любые свободные источники с обязательным указанием ссылки на них.\n",
        "\n",
        "\n",
        "- Плагиат не допускается. При обнаружении случаев списывания, 0 за работу выставляется всем участникам нарушения, даже если можно установить, кто у кого списал.\n",
        "\n",
        "<!-- ![](https://github.com/hse-ds/iad-intro-ds/blob/master/2022/homeworks/hw07-trees/meme.jpg?raw=1) -->\n",
        "<img src=\"https://github.com/hse-ds/iad-intro-ds/blob/master/2022/homeworks/hw07-trees/meme.jpg?raw=1\" alt=\"Drawing\" style=\"width: 700px;\"/>"
      ]
    },
    {
      "cell_type": "markdown",
      "metadata": {
        "id": "eDRoyc6oVkQC"
      },
      "source": [
        "## Часть 1: Основы построения решающие дерева (1.5 балла)\n",
        "\n",
        "В этой части все расчёты необходимо реализовывать в виде запрограммированных формул, например, на `numpy`. **Нельзя использовать готовые реализации**. Например, если в задании требуется рассчитать энтропию, то требуется в каком-то виде релизовать расчёт по формуле, но нельзя использовать готовую реализацию `some_module.entropy()`."
      ]
    },
    {
      "cell_type": "code",
      "execution_count": 581,
      "metadata": {
        "id": "nsJJDg3RVkQE"
      },
      "outputs": [],
      "source": [
        "import numpy as np\n",
        "import pandas as pd\n",
        "import matplotlib.pyplot as plt"
      ]
    },
    {
      "cell_type": "markdown",
      "metadata": {
        "id": "jDmq-4eXVkQF"
      },
      "source": [
        "**Задание 1.1 (0.5 балла)** Пусть известно, что в вершину решающего дерева попали 10 объектов, 8 из которых имеют метку класса $k_1$, а 2 имеют метку класса $k_2$. Рассчитайте энтропию такого распределения классов (с натуральным логарифмом). Ответ округлите до двух знаков после запятой."
      ]
    },
    {
      "cell_type": "code",
      "execution_count": 582,
      "metadata": {
        "id": "21HCYaz2VkQF",
        "colab": {
          "base_uri": "https://localhost:8080/"
        },
        "outputId": "ba038c16-e1a7-4993-80dc-c344ca954772"
      },
      "outputs": [
        {
          "output_type": "execute_result",
          "data": {
            "text/plain": [
              "0.72"
            ]
          },
          "metadata": {},
          "execution_count": 582
        }
      ],
      "source": [
        "result = 0\n",
        "result += -1 * 8 / 10 * np.log2(8 / 10)\n",
        "result += -1 * 2 / 10 * np.log2(2 / 10)\n",
        "result = float('{:.2f}'.format(result))\n",
        "result"
      ]
    },
    {
      "cell_type": "markdown",
      "metadata": {
        "id": "Pe1Or3ZsVkQG"
      },
      "source": [
        "**Задание 1.2 (0.5 балла)** Пусть дополнительно известно, что вершина из предыдущего задания не является листовой и возможно такое разбиение, что в левое поддерево попадут все объекты класса $k_1$, а в правое - класса $k_2$. Посчитайте критерий информативности:\n",
        "\n",
        "$$\n",
        "Q(R_m, j, t) = H(R_m) - \\frac{|R_\\ell|}{|R_m|}H(R_\\ell) - \\frac{|R_r|}{|R_m|}H(R_r),\n",
        "$$\n",
        "\n",
        "где $R_m$ - множество объектов в разбиваемой вершине, $j$ - номер признака, по которому происходит разбиение, $t$ - порог разбиения, $R_\\ell$ - множество объектов в левом поддереве, $R_r$ - множество объектов в правом поддереве.\n",
        "\n",
        "Теперь в качестве $H(R)$ будем использовать индекс Джини:\n",
        "\n",
        "$$\n",
        "H(R) = \\sum_{k=1}^J p_k(1-p_k),\n",
        "$$\n",
        "где $J$ – общее количество классов (в нашем случае, $J = 2$).\n",
        "\n",
        "Ответ округлите до двух знаков после запятой."
      ]
    },
    {
      "cell_type": "code",
      "execution_count": 583,
      "metadata": {
        "id": "wWNga_6zVkQH",
        "colab": {
          "base_uri": "https://localhost:8080/"
        },
        "outputId": "2396423b-af3c-4f59-81c7-fe314aeab5f2"
      },
      "outputs": [
        {
          "output_type": "stream",
          "name": "stdout",
          "text": [
            "Info criteria:  0.72\n",
            "Gini:  0.32\n"
          ]
        }
      ],
      "source": [
        "# First case:\n",
        "result - 0.8 * (-1 * 1 * np.log2(1)) - 0.2 * (-1 * 1 * np.log2(1))\n",
        "# Так как мы разбиваем так, что элементы разных классов относятся в разные поддеревья, мы получаем лучший возможный критерий информативности\n",
        "print(\"Info criteria: \", result)\n",
        "\n",
        "parent = 0.2 * (1 - 0.2)\n",
        "parent += 0.8 * (1 - 0.8)\n",
        "print(\"Gini: \", parent - 0.8 * (1 * 0) - 0.2 * (1 * 0))"
      ]
    },
    {
      "cell_type": "markdown",
      "metadata": {
        "id": "MdxaVDfiVkQH"
      },
      "source": [
        "**Задание 1.3 (0.5 балла)** Пусть при построении дерева образовалась листовая вершина с 10 объектами, значения целевой переменной для которых следующие: [1, 10, 5, 18, 100, 30, 50, 61, 84, 47] (решается задача регрессии). Чему будут равны предсказания модели для этих объектов?"
      ]
    },
    {
      "cell_type": "code",
      "execution_count": 584,
      "metadata": {
        "id": "c3NNUj-QVkQH",
        "colab": {
          "base_uri": "https://localhost:8080/"
        },
        "outputId": "6ffbccc8-23ed-4c33-b634-385292dc6036"
      },
      "outputs": [
        {
          "output_type": "execute_result",
          "data": {
            "text/plain": [
              "40.6"
            ]
          },
          "metadata": {},
          "execution_count": 584
        }
      ],
      "source": [
        "(1 + 10 + 5 + 18 + 100 + 30 + 50 + 61 + 84 + 47) / 10"
      ]
    },
    {
      "cell_type": "markdown",
      "metadata": {
        "id": "EW34JOW_VkQI"
      },
      "source": [
        "## Часть 2: Решающие деревья (4.5 балла)\n",
        "\n",
        "В этой части мы напишем и протестируем собственную реализацию решающего дерева."
      ]
    },
    {
      "cell_type": "code",
      "execution_count": 585,
      "metadata": {
        "id": "2_hCBtkvVkQI"
      },
      "outputs": [],
      "source": [
        "from collections import Counter\n",
        "from typing import Dict, List, Tuple, Union"
      ]
    },
    {
      "cell_type": "markdown",
      "metadata": {
        "id": "EeMCoZw1VkQI"
      },
      "source": [
        "**Задание 2.1 (1.5 балла)** Реализуйте функцию `find_best_split()`, которая должна находить оптимальное разбиение подмножества обучающей выборки в соответствии с информационным критерием из **Задания 1.2**. В качестве меры хаотичности $H(R)$ для задачи регрессии испольуйте дисперсию подвыборки, а для задачи классификации – критерий Джини (определён в том же задании).\n",
        "\n",
        "Для категориальных признаков применяется наивный алгоритм разбиения: мы пытаемся найти одно значение, разбиение по которому сильнее всего увеличит критерий информативности. Иными словами, объекты с конкретным значением признака отправляем в левое поддерево, остальные - в правое. Обратите внимание, что это далеко не оптимальные способ учёта категориальных признаков. Например, можно было бы на каждое значение категориального признака создавать отдельное поддерево или использовать более сложные подходы. Подробнее об этом можно прочитать в конспектах [лекций](https://github.com/esokolov/ml-course-hse/blob/master/2019-fall/lecture-notes/lecture07-trees.pdf) по машинному обучению на ПМИ (раздел «Учёт категориальных признаков»).\n",
        "\n",
        "В качестве подсказок реализации можете пользоваться кодом из бонусной части семинара по решающим деревьям.\n",
        "\n",
        "**Бонус:** Разрешается делать цикл для перебора порогов, но возможна имплементация без него. За имплементацию без цикла – **бонус 1 балл**."
      ]
    },
    {
      "cell_type": "code",
      "execution_count": 589,
      "metadata": {
        "id": "mzq2PIeCVkQJ"
      },
      "outputs": [],
      "source": [
        "def find_best_split(\n",
        "    feature_vector: Union[np.ndarray, pd.DataFrame], \n",
        "    target_vector: Union[np.ndarray, pd.Series],\n",
        "    task: str = \"classification\",\n",
        "    feature_type: str = \"real\"\n",
        ") -> Tuple[np.ndarray, np.ndarray, float, float]:\n",
        "    \"\"\"\n",
        "    Указания:\n",
        "    * Пороги, приводящие к попаданию в одно из поддеревьев пустого множества объектов, не рассматриваются.\n",
        "    * В качестве порогов, нужно брать среднее двух сосдених (при сортировке) значений признака\n",
        "    * Поведение функции в случае константного признака может быть любым.\n",
        "    * При одинаковых приростах Джини или дисперсии нужно выбирать минимальный сплит.\n",
        "    * За наличие в функции циклов балл будет снижен. Векторизуйте! :)\n",
        "\n",
        "    :param feature_vector: вещественнозначный вектор значений признака\n",
        "    :param target_vector: вектор классов объектов,  len(feature_vector) == len(target_vector)\n",
        "    :param task: либо `classification`, либо `regression`\n",
        "    :param feature_type: либо `real`, либо `categorical`\n",
        "    \n",
        "    :return thresholds: отсортированный по возрастанию вектор со всеми возможными порогами, по которым объекты можно\n",
        "     разделить на две различные подвыборки, или поддерева\n",
        "    :return ginis: вектор со значениями критерия Джини для каждого из порогов в thresholds len(ginis) == len(thresholds)\n",
        "    :return threshold_best: оптимальный порог (число)\n",
        "    :return gini_best: оптимальное значение критерия Джини (число)\n",
        "    \"\"\"\n",
        "    leves, counts = np.unique(feature_vector, return_counts=True)\n",
        "    dic = dict(zip(leves, counts))\n",
        "    dic = {k: dic[k] for k in sorted(dic)}\n",
        "    leves = np.fromiter(dic.keys(), dtype=float)\n",
        "    counts = np.fromiter(dic.values(), dtype=float)\n",
        "    if task == \"regression\":\n",
        "      c = leves[:-1] + leves[1:]\n",
        "      levels = c / 2\n",
        "      if feature_type == \"real\":\n",
        "        average = np.average(levels)\n",
        "        disp_all = np.sum(np.power(feature_vector - average, 2)) / len(feature_vector)\n",
        "        level = 0\n",
        "        ind = 0\n",
        "        meanings = []\n",
        "        for i in levels:\n",
        "          low = feature_vector[feature_vector < i]\n",
        "          high = feature_vector[feature_vector > i]\n",
        "          disp = disp_all - np.sum(np.power(low - np.average(low), 2)) / len(feature_vector) - np.sum(np.power(high - np.average(high), 2)) / len(feature_vector)\n",
        "          if disp > ind:\n",
        "            level = i\n",
        "            ind = disp\n",
        "          meanings.append(disp)\n",
        "        result = (levels, meanings, level, ind)\n",
        "        return result\n",
        "      else:\n",
        "        average = np.average(feature_vector)\n",
        "        disp_all = np.sum(np.power(feature_vector - average, 2)) / len(feature_vector)\n",
        "        level = 0\n",
        "        ind = 0\n",
        "        meanings = []\n",
        "        for i in levels:\n",
        "          other = feature_vector.delete(i)\n",
        "          disp = disp_all - np.sum(np.power(other - np.average(other), 2)) / len(feature_vector)\n",
        "          if disp > ind:\n",
        "            level = i\n",
        "            ind = disp\n",
        "          meanings.append(disp)\n",
        "        result = (levels, meanings, level, ind)\n",
        "        return result\n",
        "    else:\n",
        "      if feature_type == \"categorical\":\n",
        "        giniparent = 0\n",
        "        for j in range(len(counts)):\n",
        "          giniparent += counts[j] / np.sum(counts) * (1 - counts[j] / np.sum(counts))\n",
        "        level = 0\n",
        "        ind = 0\n",
        "        meanings = []\n",
        "        for i in leves:\n",
        "          been = []\n",
        "          gini = 0\n",
        "          for j in range(len(counts)):\n",
        "            if leves[j] != i and leves[j] not in been:\n",
        "              gini += counts[j] / np.sum(counts) * (1 - counts[j] / np.sum(counts))\n",
        "              been.append(leves[j])\n",
        "          meanings.append(giniparent - gini)\n",
        "          if giniparent - gini > level:\n",
        "            ind = giniparent - gini\n",
        "            level = i\n",
        "        result = (feature_vector, meanings, level, ind)\n",
        "        return result\n",
        "      else:\n",
        "        c = leves[:-1] + leves[1:]\n",
        "        levels = c / 2\n",
        "        giniparent = 0\n",
        "        for j in range(len(counts)):\n",
        "          giniparent += counts[j] / np.sum(counts) * (1 - counts[j] / np.sum(counts))\n",
        "        level = 0\n",
        "        ind = 0\n",
        "        meanings = []\n",
        "        for i in levels:\n",
        "          low = leves[leves < i]\n",
        "          high = leves[leves > i]\n",
        "          gini_first = 0\n",
        "          gini_second = 0\n",
        "          for i in range(len(low)):\n",
        "            gini_first += counts[i] / np.sum(counts[:len(low)]) * (1 - counts[i] / np.sum(counts[:len(low)]))\n",
        "          gini_first *= np.sum(counts[:len(low)]) / float(np.sum(counts))\n",
        "          for i in range(len(high)):\n",
        "            gini_second += counts[len(low) + i] / np.sum(counts[len(low):]) * (1 - counts[len(low) + i] / np.sum(counts[len(low):]))\n",
        "          gini_second *= np.sum(counts[len(low):]) / float(np.sum(counts))\n",
        "          disp = giniparent - gini_first - gini_second\n",
        "          if disp > ind:\n",
        "            level = levels[i]\n",
        "            ind = disp\n",
        "          meanings.append(disp)\n",
        "        result = (levels, meanings, level, ind)\n",
        "        return result\n",
        "\n",
        "thresholds, variances, threshold_best, variance_best = find_best_split(\n",
        "    X[\"CRIM\"].to_numpy(), \n",
        "    y, \n",
        "    task=\"regression\",\n",
        "    feature_type=\"real\"\n",
        ")"
      ]
    },
    {
      "cell_type": "markdown",
      "metadata": {
        "id": "lTSVysDaVkQK"
      },
      "source": [
        "Эту функцию можно протестировать на датасете `Boston` из `sklearn`."
      ]
    },
    {
      "cell_type": "code",
      "execution_count": null,
      "metadata": {
        "scrolled": true,
        "id": "dUCd1yVvVkQK"
      },
      "outputs": [],
      "source": [
        "from sklearn.datasets import load_boston\n",
        "\n",
        "boston = load_boston()\n",
        "X = pd.DataFrame(data=boston[\"data\"], columns=boston[\"feature_names\"])\n",
        "y = boston[\"target\"]"
      ]
    },
    {
      "cell_type": "markdown",
      "metadata": {
        "id": "3RwelEUBVkQL"
      },
      "source": [
        "Выведите график зависимости значения критерия ошибки от порогового значения при разбиении вершины по признаку `CRIM`."
      ]
    },
    {
      "cell_type": "code",
      "execution_count": 590,
      "metadata": {
        "id": "kJmgUJqcVkQL",
        "colab": {
          "base_uri": "https://localhost:8080/",
          "height": 280
        },
        "outputId": "83367be1-8146-42fc-aaed-71ed43b00b4b"
      },
      "outputs": [
        {
          "output_type": "execute_result",
          "data": {
            "text/plain": [
              "[<matplotlib.lines.Line2D at 0x7f9ae2cf7610>]"
            ]
          },
          "metadata": {},
          "execution_count": 590
        },
        {
          "output_type": "display_data",
          "data": {
            "text/plain": [
              "<Figure size 432x288 with 1 Axes>"
            ],
            "image/png": "[encoded data removed]"
          },
          "metadata": {
            "needs_background": "light"
          }
        }
      ],
      "source": [
        "plt.plot(thresholds, variances)"
      ]
    },
    {
      "cell_type": "markdown",
      "metadata": {
        "id": "tAg18WrfVkQM"
      },
      "source": [
        "**Задание 2.2 (1 балл)** Разберитесь с написанным кодом решающего дерева, заполните пропуски в коде и реализуйте недостающий метод `_predict_node()`.\n",
        "\n",
        "Построение дерева осуществляется согласно базовому жадному алгоритму, предложенному в лекции в разделе «Построение дерева».\n",
        "- **Выбор лучшего разбиения** необходимо производить по критерию Джини.\n",
        "- **Критерий останова:** все объекты в листе относятся к одному классу или ни по одному признаку нельзя разбить выборку.\n",
        "- **Ответ в листе:** наиболее часто встречающийся класс в листе."
      ]
    },
    {
      "cell_type": "code",
      "execution_count": 591,
      "metadata": {
        "id": "wy9ecuNIVkQM"
      },
      "outputs": [],
      "source": [
        "class DecisionTree:\n",
        "    \n",
        "    def __init__(\n",
        "      self, \n",
        "      feature_types: Union[List[str], np.ndarray], \n",
        "      max_depth: int = None, \n",
        "      min_samples_split: int = None, \n",
        "      min_samples_leaf: int = None,\n",
        "      task: str = \"classification\"\n",
        "    ) -> None:\n",
        "        \n",
        "      if np.any(list(map(lambda x: x != \"real\" and x != \"categorical\", feature_types))):\n",
        "          raise ValueError(\"There is unknown feature type\")\n",
        "\n",
        "      # В этой переменной будем хранить узлы решающего дерева. Каждая вершина хранит в себе идентификатор того,\n",
        "      # является ли она листовой. Листовые вершины хранят значение класса для предсказания, нелистовые - правого и\n",
        "      # левого детей (поддеревья для продолжения процедуры предсказания)\n",
        "      self._tree = {}\n",
        "      \n",
        "      # типы признаков (категориальные или числовые)\n",
        "      self._feature_types = feature_types\n",
        "      \n",
        "      # гиперпараметры дерева\n",
        "      self._max_depth = max_depth\n",
        "      self._min_samples_split = min_samples_split\n",
        "      self._min_samples_leaf = min_samples_leaf\n",
        "      self.task = task\n",
        "\n",
        "    def _fit_node(\n",
        "      self, \n",
        "      sub_X: np.ndarray, \n",
        "      sub_y: np.ndarray, \n",
        "      node: dict\n",
        "    ) -> None:\n",
        "        \n",
        "      # критерий останова\n",
        "      if np.all(sub_y == sub_y[0]):\n",
        "        node[\"type\"] = \"terminal\"\n",
        "        node[\"class\"] = sub_y[0]\n",
        "        return\n",
        "\n",
        "      feature_best, threshold_best, gini_best, split = None, None, None, None\n",
        "      for feature in range(sub_X.shape[1]):\n",
        "        feature_type = self._feature_types[feature]\n",
        "        categories_map = {}\n",
        "\n",
        "          # подготавливаем признак для поиска оптимального порога\n",
        "        if feature_type == \"real\":\n",
        "          feature_vector = sub_X[:, feature]\n",
        "        elif feature_type == \"categorical\":\n",
        "          # здесь могла быть реализация более сложного подхода к обработке категориального признака\n",
        "          feature_vector = sub_X[:, feature]\n",
        "        \n",
        "\n",
        "        # ищем оптимальный порог\n",
        "        _, _, threshold, gini = find_best_split(feature_vector, sub_y, self.task, feature_type)\n",
        "        \n",
        "        if gini_best is None or gini > gini_best:\n",
        "          feature_best = feature\n",
        "          gini_best = gini\n",
        "\n",
        "          # split - маска на объекты, которые должны попасть в левое поддерево\n",
        "          if feature_type == \"real\":\n",
        "            threshold_best = threshold\n",
        "            split = feature_vector < threshold_best\n",
        "          elif feature_type == \"categorical\":\n",
        "            # в данной реализации это просто значение категории\n",
        "            threshold_best = threshold\n",
        "            split = feature_vector == threshold_best\n",
        "          else:\n",
        "            raise ValueError\n",
        "\n",
        "      # записываем полученные сплиты в атрибуты класса\n",
        "      if feature_best is None:\n",
        "        node[\"type\"] = \"terminal\"\n",
        "        node[\"class\"] = Counter(sub_y).most_common(1)[0][0]\n",
        "        return\n",
        "\n",
        "      node[\"type\"] = \"nonterminal\"\n",
        "\n",
        "      node[\"feature_split\"] = feature_best\n",
        "      if self._feature_types[feature_best] == \"real\":\n",
        "        node[\"threshold\"] = threshold_best\n",
        "      elif self._feature_types[feature_best] == \"categorical\":\n",
        "        node[\"category_split\"] = threshold_best\n",
        "      else:\n",
        "        raise ValueError\n",
        "          \n",
        "      node[\"left_child\"], node[\"right_child\"] = {}, {}\n",
        "      self._fit_node(sub_X[split], sub_y[split], node[\"left_child\"])\n",
        "      self._fit_node(sub_X[np.logical_not(split)], sub_y[np.logical_not(split)], node[\"right_child\"])\n",
        "\n",
        "    def _predict_node(self, x: np.ndarray, node: dict) -> int:\n",
        "      \"\"\"\n",
        "      Предсказание начинается с корневой вершины дерева и рекурсивно идёт в левое или правое поддерево в зависимости от значения\n",
        "      предиката на объекте. Листовая вершина возвращает предсказание.\n",
        "      :param x: np.array, элемент выборки\n",
        "      :param node: dict, вершина дерева\n",
        "      \"\"\"\n",
        "      if node[\"type\"] == \"terminal\":\n",
        "        return node[\"class\"]\n",
        "      else:\n",
        "        if self._feature_types[node[\"feature_split\"]] == \"categorical\":\n",
        "          if node[\"category_split\"] != x[node[\"feature_split\"]]:\n",
        "            return self._predict_node(x, node[\"right_child\"])\n",
        "          else:\n",
        "            return self._predict_node(x, node[\"left_child\"])\n",
        "        else:\n",
        "          if node[\"threshold\"] > x[node[\"feature_split\"]]:\n",
        "            return self._predict_node(x, node[\"right_child\"])\n",
        "          else:\n",
        "            return self._predict_node(x, node[\"left_child\"])\n",
        "      pass\n",
        "\n",
        "    def fit(self, X: np.ndarray, y: np.ndarray) -> None:\n",
        "      self._fit_node(X, y, self._tree)\n",
        "\n",
        "    def predict(self, X: np.ndarray) -> np.ndarray:\n",
        "      predicted = []\n",
        "      for x in X:\n",
        "        predicted.append(self._predict_node(x, self._tree))\n",
        "            \n",
        "      return np.array(predicted)"
      ]
    },
    {
      "cell_type": "markdown",
      "metadata": {
        "id": "60mtqB2hVkQO"
      },
      "source": [
        "**Задание 2.3 (1 балл)** Загрузите таблицу `students.csv` (это немного преобразованный датасет [User Knowledge](https://archive.ics.uci.edu/ml/datasets/User+Knowledge+Modeling)). В ней признаки объекта записаны в первых пяти столбцах, а в последнем записана целевая переменная (класс: 0 или 1). Постройте на одном изображении пять кривых \"порог — значение критерия Джини\" для всех пяти признаков. Отдельно визуализируйте диаграммы рассеяния \"значение признака — класс\" для всех пяти признаков."
      ]
    },
    {
      "cell_type": "code",
      "execution_count": 592,
      "metadata": {
        "id": "fN8QpwxSVkQO",
        "colab": {
          "base_uri": "https://localhost:8080/",
          "height": 201
        },
        "outputId": "43358c37-92b5-428f-eb26-19fb4bb5ff71"
      },
      "outputs": [
        {
          "output_type": "execute_result",
          "data": {
            "text/plain": [
              "   Unnamed: 0   STG   SCG   STR   LPR   PEG  UNS\n",
              "0           0  0.00  0.00  0.00  0.00  0.00    0\n",
              "1           1  0.08  0.08  0.10  0.24  0.90    1\n",
              "2           2  0.06  0.06  0.05  0.25  0.33    0\n",
              "3           3  0.10  0.10  0.15  0.65  0.30    1\n",
              "4           4  0.08  0.08  0.08  0.98  0.24    0"
            ],
            "text/html": [
              "\n",
              "  <div id=\"df-04e4ae24-f20b-4bd6-a6f2-b255d89114f7\">\n",
              "    <div class=\"colab-df-container\">\n",
              "      <div>\n",
              "<style scoped>\n",
              "    .dataframe tbody tr th:only-of-type {\n",
              "        vertical-align: middle;\n",
              "    }\n",
              "\n",
              "    .dataframe tbody tr th {\n",
              "        vertical-align: top;\n",
              "    }\n",
              "\n",
              "    .dataframe thead th {\n",
              "        text-align: right;\n",
              "    }\n",
              "</style>\n",
              "<table border=\"1\" class=\"dataframe\">\n",
              "  <thead>\n",
              "    <tr style=\"text-align: right;\">\n",
              "      <th></th>\n",
              "      <th>Unnamed: 0</th>\n",
              "      <th>STG</th>\n",
              "      <th>SCG</th>\n",
              "      <th>STR</th>\n",
              "      <th>LPR</th>\n",
              "      <th>PEG</th>\n",
              "      <th>UNS</th>\n",
              "    </tr>\n",
              "  </thead>\n",
              "  <tbody>\n",
              "    <tr>\n",
              "      <th>0</th>\n",
              "      <td>0</td>\n",
              "      <td>0.00</td>\n",
              "      <td>0.00</td>\n",
              "      <td>0.00</td>\n",
              "      <td>0.00</td>\n",
              "      <td>0.00</td>\n",
              "      <td>0</td>\n",
              "    </tr>\n",
              "    <tr>\n",
              "      <th>1</th>\n",
              "      <td>1</td>\n",
              "      <td>0.08</td>\n",
              "      <td>0.08</td>\n",
              "      <td>0.10</td>\n",
              "      <td>0.24</td>\n",
              "      <td>0.90</td>\n",
              "      <td>1</td>\n",
              "    </tr>\n",
              "    <tr>\n",
              "      <th>2</th>\n",
              "      <td>2</td>\n",
              "      <td>0.06</td>\n",
              "      <td>0.06</td>\n",
              "      <td>0.05</td>\n",
              "      <td>0.25</td>\n",
              "      <td>0.33</td>\n",
              "      <td>0</td>\n",
              "    </tr>\n",
              "    <tr>\n",
              "      <th>3</th>\n",
              "      <td>3</td>\n",
              "      <td>0.10</td>\n",
              "      <td>0.10</td>\n",
              "      <td>0.15</td>\n",
              "      <td>0.65</td>\n",
              "      <td>0.30</td>\n",
              "      <td>1</td>\n",
              "    </tr>\n",
              "    <tr>\n",
              "      <th>4</th>\n",
              "      <td>4</td>\n",
              "      <td>0.08</td>\n",
              "      <td>0.08</td>\n",
              "      <td>0.08</td>\n",
              "      <td>0.98</td>\n",
              "      <td>0.24</td>\n",
              "      <td>0</td>\n",
              "    </tr>\n",
              "  </tbody>\n",
              "</table>\n",
              "</div>\n",
              "      <button class=\"colab-df-convert\" onclick=\"convertToInteractive('df-04e4ae24-f20b-4bd6-a6f2-b255d89114f7')\"\n",
              "              title=\"Convert this dataframe to an interactive table.\"\n",
              "              style=\"display:none;\">\n",
              "        \n",
              "  <svg xmlns=\"http://www.w3.org/2000/svg\" height=\"24px\"viewBox=\"0 0 24 24\"\n",
              "       width=\"24px\">\n",
              "    <path d=\"M0 0h24v24H0V0z\" fill=\"none\"/>\n",
              "    <path d=\"M18.56 5.44l.94 2.06.94-2.06 2.06-.94-2.06-.94-.94-2.06-.94 2.06-2.06.94zm-11 1L8.5 8.5l.94-2.06 2.06-.94-2.06-.94L8.5 2.5l-.94 2.06-2.06.94zm10 10l.94 2.06.94-2.06 2.06-.94-2.06-.94-.94-2.06-.94 2.06-2.06.94z\"/><path d=\"M17.41 7.96l-1.37-1.37c-.4-.4-.92-.59-1.43-.59-.52 0-1.04.2-1.43.59L10.3 9.45l-7.72 7.72c-.78.78-.78 2.05 0 2.83L4 21.41c.39.39.9.59 1.41.59.51 0 1.02-.2 1.41-.59l7.78-7.78 2.81-2.81c.8-.78.8-2.07 0-2.86zM5.41 20L4 18.59l7.72-7.72 1.47 1.35L5.41 20z\"/>\n",
              "  </svg>\n",
              "      </button>\n",
              "      \n",
              "  <style>\n",
              "    .colab-df-container {\n",
              "      display:flex;\n",
              "      flex-wrap:wrap;\n",
              "      gap: 12px;\n",
              "    }\n",
              "\n",
              "    .colab-df-convert {\n",
              "      background-color: #E8F0FE;\n",
              "      border: none;\n",
              "      border-radius: 50%;\n",
              "      cursor: pointer;\n",
              "      display: none;\n",
              "      fill: #1967D2;\n",
              "      height: 32px;\n",
              "      padding: 0 0 0 0;\n",
              "      width: 32px;\n",
              "    }\n",
              "\n",
              "    .colab-df-convert:hover {\n",
              "      background-color: #E2EBFA;\n",
              "      box-shadow: 0px 1px 2px rgba(60, 64, 67, 0.3), 0px 1px 3px 1px rgba(60, 64, 67, 0.15);\n",
              "      fill: #174EA6;\n",
              "    }\n",
              "\n",
              "    [theme=dark] .colab-df-convert {\n",
              "      background-color: #3B4455;\n",
              "      fill: #D2E3FC;\n",
              "    }\n",
              "\n",
              "    [theme=dark] .colab-df-convert:hover {\n",
              "      background-color: #434B5C;\n",
              "      box-shadow: 0px 1px 3px 1px rgba(0, 0, 0, 0.15);\n",
              "      filter: drop-shadow(0px 1px 2px rgba(0, 0, 0, 0.3));\n",
              "      fill: #FFFFFF;\n",
              "    }\n",
              "  </style>\n",
              "\n",
              "      <script>\n",
              "        const buttonEl =\n",
              "          document.querySelector('#df-04e4ae24-f20b-4bd6-a6f2-b255d89114f7 button.colab-df-convert');\n",
              "        buttonEl.style.display =\n",
              "          google.colab.kernel.accessAllowed ? 'block' : 'none';\n",
              "\n",
              "        async function convertToInteractive(key) {\n",
              "          const element = document.querySelector('#df-04e4ae24-f20b-4bd6-a6f2-b255d89114f7');\n",
              "          const dataTable =\n",
              "            await google.colab.kernel.invokeFunction('convertToInteractive',\n",
              "                                                     [key], {});\n",
              "          if (!dataTable) return;\n",
              "\n",
              "          const docLinkHtml = 'Like what you see? Visit the ' +\n",
              "            '<a target=\"_blank\" href=https://colab.research.google.com/notebooks/data_table.ipynb>data table notebook</a>'\n",
              "            + ' to learn more about interactive tables.';\n",
              "          element.innerHTML = '';\n",
              "          dataTable['output_type'] = 'display_data';\n",
              "          await google.colab.output.renderOutput(dataTable, element);\n",
              "          const docLink = document.createElement('div');\n",
              "          docLink.innerHTML = docLinkHtml;\n",
              "          element.appendChild(docLink);\n",
              "        }\n",
              "      </script>\n",
              "    </div>\n",
              "  </div>\n",
              "  "
            ]
          },
          "metadata": {},
          "execution_count": 592
        }
      ],
      "source": [
        "url = 'https://raw.githubusercontent.com/hse-ds/iad-intro-ds/master/2022/homeworks/hw07-trees/students.csv'\n",
        "data = pd.read_csv(url)\n",
        "data.head(5)"
      ]
    },
    {
      "cell_type": "code",
      "source": [
        "y = data[\"UNS\"]\n",
        "thresholds, variances, threshold_best, variance_best = find_best_split(\n",
        "    data[\"STG\"].to_numpy(),\n",
        "    y, \n",
        "    task=\"classification\",\n",
        "    feature_type=\"real\"\n",
        ")\n",
        "plt.figure(figsize=(15, 10))\n",
        "plt.plot(thresholds, variances, label = \"STG\")\n",
        "thresholds, variances, threshold_best, variance_best = find_best_split(\n",
        "    data[\"SCG\"].to_numpy(),\n",
        "    y, \n",
        "    task=\"classification\",\n",
        "    feature_type=\"real\"\n",
        ")\n",
        "plt.plot(thresholds, variances, label = \"SCG\")\n",
        "thresholds, variances, threshold_best, variance_best = find_best_split(\n",
        "    data[\"STR\"].to_numpy(),\n",
        "    y, \n",
        "    task=\"classification\",\n",
        "    feature_type=\"real\"\n",
        ")\n",
        "plt.plot(thresholds, variances, label = \"STR\")\n",
        "thresholds, variances, threshold_best, variance_best = find_best_split(\n",
        "    data[\"LPR\"].to_numpy(),\n",
        "    y, \n",
        "    task=\"classification\",\n",
        "    feature_type=\"real\"\n",
        ")\n",
        "plt.plot(thresholds, variances, label = \"LPR\")\n",
        "thresholds, variances, threshold_best, variance_best = find_best_split(\n",
        "    data[\"PEG\"].to_numpy(),\n",
        "    y, \n",
        "    task=\"classification\",\n",
        "    feature_type=\"real\"\n",
        ")\n",
        "plt.plot(thresholds, variances, label = \"PEG\")\n",
        "plt.legend()\n",
        "plt.show()"
      ],
      "metadata": {
        "colab": {
          "base_uri": "https://localhost:8080/",
          "height": 590
        },
        "id": "R2PiWKcmhXYZ",
        "outputId": "7506d3b7-4a8c-4c95-b5c4-0da909653b41"
      },
      "execution_count": 593,
      "outputs": [
        {
          "output_type": "display_data",
          "data": {
            "text/plain": [
              "<Figure size 1080x720 with 1 Axes>"
            ],
            "image/png": "[encoded data removed]"
          },
          "metadata": {
            "needs_background": "light"
          }
        }
      ]
    },
    {
      "cell_type": "code",
      "source": [
        "plt.figure(figsize=(8, 5))\n",
        "plt.scatter(data[\"STG\"], data[\"UNS\"], s = 2)\n",
        "plt.ylabel(\"Class\")\n",
        "plt.ylabel(\"STG\")"
      ],
      "metadata": {
        "colab": {
          "base_uri": "https://localhost:8080/",
          "height": 335
        },
        "id": "Y2oSN4wOarmK",
        "outputId": "4eb222c1-8eb6-41f0-a06b-dcc606e76611"
      },
      "execution_count": 594,
      "outputs": [
        {
          "output_type": "execute_result",
          "data": {
            "text/plain": [
              "Text(0, 0.5, 'STG')"
            ]
          },
          "metadata": {},
          "execution_count": 594
        },
        {
          "output_type": "display_data",
          "data": {
            "text/plain": [
              "<Figure size 576x360 with 1 Axes>"
            ],
            "image/png": "[encoded data removed]"
          },
          "metadata": {
            "needs_background": "light"
          }
        }
      ]
    },
    {
      "cell_type": "code",
      "source": [
        "plt.figure(figsize=(8, 5))\n",
        "plt.scatter(data[\"SCG\"], data[\"UNS\"], s = 2)\n",
        "plt.ylabel(\"Class\")\n",
        "plt.ylabel(\"SCG\")"
      ],
      "metadata": {
        "colab": {
          "base_uri": "https://localhost:8080/",
          "height": 335
        },
        "id": "VBwHjI2LbaHy",
        "outputId": "ce07adc2-a5ce-400e-92fd-1c9fada71e9b"
      },
      "execution_count": 595,
      "outputs": [
        {
          "output_type": "execute_result",
          "data": {
            "text/plain": [
              "Text(0, 0.5, 'SCG')"
            ]
          },
          "metadata": {},
          "execution_count": 595
        },
        {
          "output_type": "display_data",
          "data": {
            "text/plain": [
              "<Figure size 576x360 with 1 Axes>"
            ],
            "image/png": "[encoded data removed]"
          },
          "metadata": {
            "needs_background": "light"
          }
        }
      ]
    },
    {
      "cell_type": "code",
      "source": [
        "plt.figure(figsize=(8, 5))\n",
        "plt.scatter(data[\"STR\"], data[\"UNS\"], s = 2)\n",
        "plt.ylabel(\"Class\")\n",
        "plt.ylabel(\"STR\")"
      ],
      "metadata": {
        "colab": {
          "base_uri": "https://localhost:8080/",
          "height": 335
        },
        "id": "hAhT43L0bcFU",
        "outputId": "1c9b2515-1822-4bd2-eb8b-659cf4f1239c"
      },
      "execution_count": 596,
      "outputs": [
        {
          "output_type": "execute_result",
          "data": {
            "text/plain": [
              "Text(0, 0.5, 'STR')"
            ]
          },
          "metadata": {},
          "execution_count": 596
        },
        {
          "output_type": "display_data",
          "data": {
            "text/plain": [
              "<Figure size 576x360 with 1 Axes>"
            ],
            "image/png": "[encoded data removed]"
          },
          "metadata": {
            "needs_background": "light"
          }
        }
      ]
    },
    {
      "cell_type": "code",
      "source": [
        "plt.figure(figsize=(8, 5))\n",
        "plt.scatter(data[\"LPR\"], data[\"UNS\"], s = 2)\n",
        "plt.ylabel(\"Class\")\n",
        "plt.ylabel(\"LPR\")"
      ],
      "metadata": {
        "colab": {
          "base_uri": "https://localhost:8080/",
          "height": 335
        },
        "id": "Ke-B4eSTbiBK",
        "outputId": "070c04b6-0fea-4675-87af-d7a0d5ee6292"
      },
      "execution_count": 597,
      "outputs": [
        {
          "output_type": "execute_result",
          "data": {
            "text/plain": [
              "Text(0, 0.5, 'LPR')"
            ]
          },
          "metadata": {},
          "execution_count": 597
        },
        {
          "output_type": "display_data",
          "data": {
            "text/plain": [
              "<Figure size 576x360 with 1 Axes>"
            ],
            "image/png": "[encoded data removed]"
          },
          "metadata": {
            "needs_background": "light"
          }
        }
      ]
    },
    {
      "cell_type": "code",
      "source": [
        "plt.figure(figsize=(8, 5))\n",
        "plt.scatter(data[\"PEG\"], data[\"UNS\"], s = 2)\n",
        "plt.ylabel(\"Class\")\n",
        "plt.ylabel(\"PEG\")"
      ],
      "metadata": {
        "colab": {
          "base_uri": "https://localhost:8080/",
          "height": 335
        },
        "id": "L_6mYKVVbjvC",
        "outputId": "646589cf-4a7d-4d91-c655-67573bd5193d"
      },
      "execution_count": 598,
      "outputs": [
        {
          "output_type": "execute_result",
          "data": {
            "text/plain": [
              "Text(0, 0.5, 'PEG')"
            ]
          },
          "metadata": {},
          "execution_count": 598
        },
        {
          "output_type": "display_data",
          "data": {
            "text/plain": [
              "<Figure size 576x360 with 1 Axes>"
            ],
            "image/png": "[encoded data removed]"
          },
          "metadata": {
            "needs_background": "light"
          }
        }
      ]
    },
    {
      "cell_type": "markdown",
      "metadata": {
        "id": "EgYo-U9EVkQO"
      },
      "source": [
        "Исходя из кривых значений критерия Джини, по какому признаку нужно производить деление выборки на два поддерева? Согласуется ли этот результат с визуальной оценкой диаграмм рассеяиния? Как бы охарактеризовали вид кривой для \"хороших\" признаков, по которым выборка делится почти идеально? Чем отличаются кривые для признаков, по которым деление практически невозможно?"
      ]
    },
    {
      "cell_type": "code",
      "execution_count": 599,
      "metadata": {
        "id": "u3llaURaVkQP"
      },
      "outputs": [],
      "source": [
        "# Лучше всего проверси деление по признаку PEG, так как он может почти идеально разделить выборку на 2 части с хорошим критерием информативности.\n",
        "# По диаграмме рассеивания видно, что у этот признак четко делит выборку на классы (практически без пересечений).\n",
        "# Хорошая диаграмма рассеивания - та, у которой максимум достигается примерно в \"середине\", то есть критерий иноформативности лучший при делении выборки пополам.\n",
        "# Очевидно, что если информативность хорошая при делении в пропорции 1 / 10000, то это не очень хорошо. Поэтому худшие графики - монотонно убывающие или возрастающие."
      ]
    },
    {
      "cell_type": "markdown",
      "metadata": {
        "id": "XAb_HYvoVkQP"
      },
      "source": [
        "**Задание 2.4 (1 балл)** Протестируйте свое решающее дерево на датасете [mushrooms](https://archive.ics.uci.edu/ml/datasets/Mushroom). \n",
        "\n",
        "1. Скачайте таблицу `agaricus-lepiota.data` (из [Data Folder](https://archive.ics.uci.edu/ml/machine-learning-databases/mushroom/)), \n",
        "2. Считайте таблицу при помощи `pandas`,\n",
        "3. Примените к каждому столбцу `LabelEncoder` (из `sklearn`), чтобы преобразовать строковые имена категорий в натуральные числа. \n",
        "\n",
        "Первый столбец — это целевая переменная (e — edible, p — poisonous) Мы будем измерять качество с помощью accuracy, так что нам не очень важно, что будет классом 1, а что — классом 0. Обучите решающее дерево на половине случайно выбранных объектов (признаки в датасете категориальные) и сделайте предсказания для оставшейся половины. Вычислите accuracy."
      ]
    },
    {
      "cell_type": "code",
      "execution_count": 600,
      "metadata": {
        "id": "uIMG08FJVkQP",
        "colab": {
          "base_uri": "https://localhost:8080/",
          "height": 229
        },
        "outputId": "e07dd110-ead7-4ad3-db52-bb92954c5693"
      },
      "outputs": [
        {
          "output_type": "execute_result",
          "data": {
            "text/plain": [
              "   p  x  s  n  t p.1  f  c n.1  k  ... s.2  w w.1 p.2 w.2  o p.3 k.1 s.3  u\n",
              "0  e  x  s  y  t   a  f  c   b  k  ...   s  w   w   p   w  o   p   n   n  g\n",
              "1  e  b  s  w  t   l  f  c   b  n  ...   s  w   w   p   w  o   p   n   n  m\n",
              "2  p  x  y  w  t   p  f  c   n  n  ...   s  w   w   p   w  o   p   k   s  u\n",
              "3  e  x  s  g  f   n  f  w   b  k  ...   s  w   w   p   w  o   e   n   a  g\n",
              "4  e  x  y  y  t   a  f  c   b  n  ...   s  w   w   p   w  o   p   k   n  g\n",
              "\n",
              "[5 rows x 23 columns]"
            ],
            "text/html": [
              "\n",
              "  <div id=\"df-5ec8a026-968b-4310-962f-5ca45b710c5a\">\n",
              "    <div class=\"colab-df-container\">\n",
              "      <div>\n",
              "<style scoped>\n",
              "    .dataframe tbody tr th:only-of-type {\n",
              "        vertical-align: middle;\n",
              "    }\n",
              "\n",
              "    .dataframe tbody tr th {\n",
              "        vertical-align: top;\n",
              "    }\n",
              "\n",
              "    .dataframe thead th {\n",
              "        text-align: right;\n",
              "    }\n",
              "</style>\n",
              "<table border=\"1\" class=\"dataframe\">\n",
              "  <thead>\n",
              "    <tr style=\"text-align: right;\">\n",
              "      <th></th>\n",
              "      <th>p</th>\n",
              "      <th>x</th>\n",
              "      <th>s</th>\n",
              "      <th>n</th>\n",
              "      <th>t</th>\n",
              "      <th>p.1</th>\n",
              "      <th>f</th>\n",
              "      <th>c</th>\n",
              "      <th>n.1</th>\n",
              "      <th>k</th>\n",
              "      <th>...</th>\n",
              "      <th>s.2</th>\n",
              "      <th>w</th>\n",
              "      <th>w.1</th>\n",
              "      <th>p.2</th>\n",
              "      <th>w.2</th>\n",
              "      <th>o</th>\n",
              "      <th>p.3</th>\n",
              "      <th>k.1</th>\n",
              "      <th>s.3</th>\n",
              "      <th>u</th>\n",
              "    </tr>\n",
              "  </thead>\n",
              "  <tbody>\n",
              "    <tr>\n",
              "      <th>0</th>\n",
              "      <td>e</td>\n",
              "      <td>x</td>\n",
              "      <td>s</td>\n",
              "      <td>y</td>\n",
              "      <td>t</td>\n",
              "      <td>a</td>\n",
              "      <td>f</td>\n",
              "      <td>c</td>\n",
              "      <td>b</td>\n",
              "      <td>k</td>\n",
              "      <td>...</td>\n",
              "      <td>s</td>\n",
              "      <td>w</td>\n",
              "      <td>w</td>\n",
              "      <td>p</td>\n",
              "      <td>w</td>\n",
              "      <td>o</td>\n",
              "      <td>p</td>\n",
              "      <td>n</td>\n",
              "      <td>n</td>\n",
              "      <td>g</td>\n",
              "    </tr>\n",
              "    <tr>\n",
              "      <th>1</th>\n",
              "      <td>e</td>\n",
              "      <td>b</td>\n",
              "      <td>s</td>\n",
              "      <td>w</td>\n",
              "      <td>t</td>\n",
              "      <td>l</td>\n",
              "      <td>f</td>\n",
              "      <td>c</td>\n",
              "      <td>b</td>\n",
              "      <td>n</td>\n",
              "      <td>...</td>\n",
              "      <td>s</td>\n",
              "      <td>w</td>\n",
              "      <td>w</td>\n",
              "      <td>p</td>\n",
              "      <td>w</td>\n",
              "      <td>o</td>\n",
              "      <td>p</td>\n",
              "      <td>n</td>\n",
              "      <td>n</td>\n",
              "      <td>m</td>\n",
              "    </tr>\n",
              "    <tr>\n",
              "      <th>2</th>\n",
              "      <td>p</td>\n",
              "      <td>x</td>\n",
              "      <td>y</td>\n",
              "      <td>w</td>\n",
              "      <td>t</td>\n",
              "      <td>p</td>\n",
              "      <td>f</td>\n",
              "      <td>c</td>\n",
              "      <td>n</td>\n",
              "      <td>n</td>\n",
              "      <td>...</td>\n",
              "      <td>s</td>\n",
              "      <td>w</td>\n",
              "      <td>w</td>\n",
              "      <td>p</td>\n",
              "      <td>w</td>\n",
              "      <td>o</td>\n",
              "      <td>p</td>\n",
              "      <td>k</td>\n",
              "      <td>s</td>\n",
              "      <td>u</td>\n",
              "    </tr>\n",
              "    <tr>\n",
              "      <th>3</th>\n",
              "      <td>e</td>\n",
              "      <td>x</td>\n",
              "      <td>s</td>\n",
              "      <td>g</td>\n",
              "      <td>f</td>\n",
              "      <td>n</td>\n",
              "      <td>f</td>\n",
              "      <td>w</td>\n",
              "      <td>b</td>\n",
              "      <td>k</td>\n",
              "      <td>...</td>\n",
              "      <td>s</td>\n",
              "      <td>w</td>\n",
              "      <td>w</td>\n",
              "      <td>p</td>\n",
              "      <td>w</td>\n",
              "      <td>o</td>\n",
              "      <td>e</td>\n",
              "      <td>n</td>\n",
              "      <td>a</td>\n",
              "      <td>g</td>\n",
              "    </tr>\n",
              "    <tr>\n",
              "      <th>4</th>\n",
              "      <td>e</td>\n",
              "      <td>x</td>\n",
              "      <td>y</td>\n",
              "      <td>y</td>\n",
              "      <td>t</td>\n",
              "      <td>a</td>\n",
              "      <td>f</td>\n",
              "      <td>c</td>\n",
              "      <td>b</td>\n",
              "      <td>n</td>\n",
              "      <td>...</td>\n",
              "      <td>s</td>\n",
              "      <td>w</td>\n",
              "      <td>w</td>\n",
              "      <td>p</td>\n",
              "      <td>w</td>\n",
              "      <td>o</td>\n",
              "      <td>p</td>\n",
              "      <td>k</td>\n",
              "      <td>n</td>\n",
              "      <td>g</td>\n",
              "    </tr>\n",
              "  </tbody>\n",
              "</table>\n",
              "<p>5 rows × 23 columns</p>\n",
              "</div>\n",
              "      <button class=\"colab-df-convert\" onclick=\"convertToInteractive('df-5ec8a026-968b-4310-962f-5ca45b710c5a')\"\n",
              "              title=\"Convert this dataframe to an interactive table.\"\n",
              "              style=\"display:none;\">\n",
              "        \n",
              "  <svg xmlns=\"http://www.w3.org/2000/svg\" height=\"24px\"viewBox=\"0 0 24 24\"\n",
              "       width=\"24px\">\n",
              "    <path d=\"M0 0h24v24H0V0z\" fill=\"none\"/>\n",
              "    <path d=\"M18.56 5.44l.94 2.06.94-2.06 2.06-.94-2.06-.94-.94-2.06-.94 2.06-2.06.94zm-11 1L8.5 8.5l.94-2.06 2.06-.94-2.06-.94L8.5 2.5l-.94 2.06-2.06.94zm10 10l.94 2.06.94-2.06 2.06-.94-2.06-.94-.94-2.06-.94 2.06-2.06.94z\"/><path d=\"M17.41 7.96l-1.37-1.37c-.4-.4-.92-.59-1.43-.59-.52 0-1.04.2-1.43.59L10.3 9.45l-7.72 7.72c-.78.78-.78 2.05 0 2.83L4 21.41c.39.39.9.59 1.41.59.51 0 1.02-.2 1.41-.59l7.78-7.78 2.81-2.81c.8-.78.8-2.07 0-2.86zM5.41 20L4 18.59l7.72-7.72 1.47 1.35L5.41 20z\"/>\n",
              "  </svg>\n",
              "      </button>\n",
              "      \n",
              "  <style>\n",
              "    .colab-df-container {\n",
              "      display:flex;\n",
              "      flex-wrap:wrap;\n",
              "      gap: 12px;\n",
              "    }\n",
              "\n",
              "    .colab-df-convert {\n",
              "      background-color: #E8F0FE;\n",
              "      border: none;\n",
              "      border-radius: 50%;\n",
              "      cursor: pointer;\n",
              "      display: none;\n",
              "      fill: #1967D2;\n",
              "      height: 32px;\n",
              "      padding: 0 0 0 0;\n",
              "      width: 32px;\n",
              "    }\n",
              "\n",
              "    .colab-df-convert:hover {\n",
              "      background-color: #E2EBFA;\n",
              "      box-shadow: 0px 1px 2px rgba(60, 64, 67, 0.3), 0px 1px 3px 1px rgba(60, 64, 67, 0.15);\n",
              "      fill: #174EA6;\n",
              "    }\n",
              "\n",
              "    [theme=dark] .colab-df-convert {\n",
              "      background-color: #3B4455;\n",
              "      fill: #D2E3FC;\n",
              "    }\n",
              "\n",
              "    [theme=dark] .colab-df-convert:hover {\n",
              "      background-color: #434B5C;\n",
              "      box-shadow: 0px 1px 3px 1px rgba(0, 0, 0, 0.15);\n",
              "      filter: drop-shadow(0px 1px 2px rgba(0, 0, 0, 0.3));\n",
              "      fill: #FFFFFF;\n",
              "    }\n",
              "  </style>\n",
              "\n",
              "      <script>\n",
              "        const buttonEl =\n",
              "          document.querySelector('#df-5ec8a026-968b-4310-962f-5ca45b710c5a button.colab-df-convert');\n",
              "        buttonEl.style.display =\n",
              "          google.colab.kernel.accessAllowed ? 'block' : 'none';\n",
              "\n",
              "        async function convertToInteractive(key) {\n",
              "          const element = document.querySelector('#df-5ec8a026-968b-4310-962f-5ca45b710c5a');\n",
              "          const dataTable =\n",
              "            await google.colab.kernel.invokeFunction('convertToInteractive',\n",
              "                                                     [key], {});\n",
              "          if (!dataTable) return;\n",
              "\n",
              "          const docLinkHtml = 'Like what you see? Visit the ' +\n",
              "            '<a target=\"_blank\" href=https://colab.research.google.com/notebooks/data_table.ipynb>data table notebook</a>'\n",
              "            + ' to learn more about interactive tables.';\n",
              "          element.innerHTML = '';\n",
              "          dataTable['output_type'] = 'display_data';\n",
              "          await google.colab.output.renderOutput(dataTable, element);\n",
              "          const docLink = document.createElement('div');\n",
              "          docLink.innerHTML = docLinkHtml;\n",
              "          element.appendChild(docLink);\n",
              "        }\n",
              "      </script>\n",
              "    </div>\n",
              "  </div>\n",
              "  "
            ]
          },
          "metadata": {},
          "execution_count": 600
        }
      ],
      "source": [
        "data = pd.read_csv('agaricus-lepiota.data', sep=\",\")\n",
        "data.head(5)"
      ]
    },
    {
      "cell_type": "code",
      "source": [
        "from sklearn import preprocessing\n",
        "le = preprocessing.LabelEncoder()"
      ],
      "metadata": {
        "id": "0L45H0YffxQ1"
      },
      "execution_count": 602,
      "outputs": []
    },
    {
      "cell_type": "code",
      "source": [
        "cols = list(data.columns)\n",
        "data[cols] = data[cols].apply(le.fit_transform)\n",
        "data.head(5)"
      ],
      "metadata": {
        "colab": {
          "base_uri": "https://localhost:8080/",
          "height": 229
        },
        "id": "etrSE8hJf8Jl",
        "outputId": "3a1939a6-3ade-4dcd-8cac-b28dfa9994db"
      },
      "execution_count": 601,
      "outputs": [
        {
          "output_type": "execute_result",
          "data": {
            "text/plain": [
              "   p  x  s  n  t  p.1  f  c  n.1  k  ...  s.2  w  w.1  p.2  w.2  o  p.3  k.1  \\\n",
              "0  0  5  2  9  1    0  1  0    0  4  ...    2  7    7    0    2  1    4    3   \n",
              "1  0  0  2  8  1    3  1  0    0  5  ...    2  7    7    0    2  1    4    3   \n",
              "2  1  5  3  8  1    6  1  0    1  5  ...    2  7    7    0    2  1    4    2   \n",
              "3  0  5  2  3  0    5  1  1    0  4  ...    2  7    7    0    2  1    0    3   \n",
              "4  0  5  3  9  1    0  1  0    0  5  ...    2  7    7    0    2  1    4    2   \n",
              "\n",
              "   s.3  u  \n",
              "0    2  1  \n",
              "1    2  3  \n",
              "2    3  5  \n",
              "3    0  1  \n",
              "4    2  1  \n",
              "\n",
              "[5 rows x 23 columns]"
            ],
            "text/html": [
              "\n",
              "  <div id=\"df-8f08236d-495a-41f2-a95b-8e07fac140e0\">\n",
              "    <div class=\"colab-df-container\">\n",
              "      <div>\n",
              "<style scoped>\n",
              "    .dataframe tbody tr th:only-of-type {\n",
              "        vertical-align: middle;\n",
              "    }\n",
              "\n",
              "    .dataframe tbody tr th {\n",
              "        vertical-align: top;\n",
              "    }\n",
              "\n",
              "    .dataframe thead th {\n",
              "        text-align: right;\n",
              "    }\n",
              "</style>\n",
              "<table border=\"1\" class=\"dataframe\">\n",
              "  <thead>\n",
              "    <tr style=\"text-align: right;\">\n",
              "      <th></th>\n",
              "      <th>p</th>\n",
              "      <th>x</th>\n",
              "      <th>s</th>\n",
              "      <th>n</th>\n",
              "      <th>t</th>\n",
              "      <th>p.1</th>\n",
              "      <th>f</th>\n",
              "      <th>c</th>\n",
              "      <th>n.1</th>\n",
              "      <th>k</th>\n",
              "      <th>...</th>\n",
              "      <th>s.2</th>\n",
              "      <th>w</th>\n",
              "      <th>w.1</th>\n",
              "      <th>p.2</th>\n",
              "      <th>w.2</th>\n",
              "      <th>o</th>\n",
              "      <th>p.3</th>\n",
              "      <th>k.1</th>\n",
              "      <th>s.3</th>\n",
              "      <th>u</th>\n",
              "    </tr>\n",
              "  </thead>\n",
              "  <tbody>\n",
              "    <tr>\n",
              "      <th>0</th>\n",
              "      <td>0</td>\n",
              "      <td>5</td>\n",
              "      <td>2</td>\n",
              "      <td>9</td>\n",
              "      <td>1</td>\n",
              "      <td>0</td>\n",
              "      <td>1</td>\n",
              "      <td>0</td>\n",
              "      <td>0</td>\n",
              "      <td>4</td>\n",
              "      <td>...</td>\n",
              "      <td>2</td>\n",
              "      <td>7</td>\n",
              "      <td>7</td>\n",
              "      <td>0</td>\n",
              "      <td>2</td>\n",
              "      <td>1</td>\n",
              "      <td>4</td>\n",
              "      <td>3</td>\n",
              "      <td>2</td>\n",
              "      <td>1</td>\n",
              "    </tr>\n",
              "    <tr>\n",
              "      <th>1</th>\n",
              "      <td>0</td>\n",
              "      <td>0</td>\n",
              "      <td>2</td>\n",
              "      <td>8</td>\n",
              "      <td>1</td>\n",
              "      <td>3</td>\n",
              "      <td>1</td>\n",
              "      <td>0</td>\n",
              "      <td>0</td>\n",
              "      <td>5</td>\n",
              "      <td>...</td>\n",
              "      <td>2</td>\n",
              "      <td>7</td>\n",
              "      <td>7</td>\n",
              "      <td>0</td>\n",
              "      <td>2</td>\n",
              "      <td>1</td>\n",
              "      <td>4</td>\n",
              "      <td>3</td>\n",
              "      <td>2</td>\n",
              "      <td>3</td>\n",
              "    </tr>\n",
              "    <tr>\n",
              "      <th>2</th>\n",
              "      <td>1</td>\n",
              "      <td>5</td>\n",
              "      <td>3</td>\n",
              "      <td>8</td>\n",
              "      <td>1</td>\n",
              "      <td>6</td>\n",
              "      <td>1</td>\n",
              "      <td>0</td>\n",
              "      <td>1</td>\n",
              "      <td>5</td>\n",
              "      <td>...</td>\n",
              "      <td>2</td>\n",
              "      <td>7</td>\n",
              "      <td>7</td>\n",
              "      <td>0</td>\n",
              "      <td>2</td>\n",
              "      <td>1</td>\n",
              "      <td>4</td>\n",
              "      <td>2</td>\n",
              "      <td>3</td>\n",
              "      <td>5</td>\n",
              "    </tr>\n",
              "    <tr>\n",
              "      <th>3</th>\n",
              "      <td>0</td>\n",
              "      <td>5</td>\n",
              "      <td>2</td>\n",
              "      <td>3</td>\n",
              "      <td>0</td>\n",
              "      <td>5</td>\n",
              "      <td>1</td>\n",
              "      <td>1</td>\n",
              "      <td>0</td>\n",
              "      <td>4</td>\n",
              "      <td>...</td>\n",
              "      <td>2</td>\n",
              "      <td>7</td>\n",
              "      <td>7</td>\n",
              "      <td>0</td>\n",
              "      <td>2</td>\n",
              "      <td>1</td>\n",
              "      <td>0</td>\n",
              "      <td>3</td>\n",
              "      <td>0</td>\n",
              "      <td>1</td>\n",
              "    </tr>\n",
              "    <tr>\n",
              "      <th>4</th>\n",
              "      <td>0</td>\n",
              "      <td>5</td>\n",
              "      <td>3</td>\n",
              "      <td>9</td>\n",
              "      <td>1</td>\n",
              "      <td>0</td>\n",
              "      <td>1</td>\n",
              "      <td>0</td>\n",
              "      <td>0</td>\n",
              "      <td>5</td>\n",
              "      <td>...</td>\n",
              "      <td>2</td>\n",
              "      <td>7</td>\n",
              "      <td>7</td>\n",
              "      <td>0</td>\n",
              "      <td>2</td>\n",
              "      <td>1</td>\n",
              "      <td>4</td>\n",
              "      <td>2</td>\n",
              "      <td>2</td>\n",
              "      <td>1</td>\n",
              "    </tr>\n",
              "  </tbody>\n",
              "</table>\n",
              "<p>5 rows × 23 columns</p>\n",
              "</div>\n",
              "      <button class=\"colab-df-convert\" onclick=\"convertToInteractive('df-8f08236d-495a-41f2-a95b-8e07fac140e0')\"\n",
              "              title=\"Convert this dataframe to an interactive table.\"\n",
              "              style=\"display:none;\">\n",
              "        \n",
              "  <svg xmlns=\"http://www.w3.org/2000/svg\" height=\"24px\"viewBox=\"0 0 24 24\"\n",
              "       width=\"24px\">\n",
              "    <path d=\"M0 0h24v24H0V0z\" fill=\"none\"/>\n",
              "    <path d=\"M18.56 5.44l.94 2.06.94-2.06 2.06-.94-2.06-.94-.94-2.06-.94 2.06-2.06.94zm-11 1L8.5 8.5l.94-2.06 2.06-.94-2.06-.94L8.5 2.5l-.94 2.06-2.06.94zm10 10l.94 2.06.94-2.06 2.06-.94-2.06-.94-.94-2.06-.94 2.06-2.06.94z\"/><path d=\"M17.41 7.96l-1.37-1.37c-.4-.4-.92-.59-1.43-.59-.52 0-1.04.2-1.43.59L10.3 9.45l-7.72 7.72c-.78.78-.78 2.05 0 2.83L4 21.41c.39.39.9.59 1.41.59.51 0 1.02-.2 1.41-.59l7.78-7.78 2.81-2.81c.8-.78.8-2.07 0-2.86zM5.41 20L4 18.59l7.72-7.72 1.47 1.35L5.41 20z\"/>\n",
              "  </svg>\n",
              "      </button>\n",
              "      \n",
              "  <style>\n",
              "    .colab-df-container {\n",
              "      display:flex;\n",
              "      flex-wrap:wrap;\n",
              "      gap: 12px;\n",
              "    }\n",
              "\n",
              "    .colab-df-convert {\n",
              "      background-color: #E8F0FE;\n",
              "      border: none;\n",
              "      border-radius: 50%;\n",
              "      cursor: pointer;\n",
              "      display: none;\n",
              "      fill: #1967D2;\n",
              "      height: 32px;\n",
              "      padding: 0 0 0 0;\n",
              "      width: 32px;\n",
              "    }\n",
              "\n",
              "    .colab-df-convert:hover {\n",
              "      background-color: #E2EBFA;\n",
              "      box-shadow: 0px 1px 2px rgba(60, 64, 67, 0.3), 0px 1px 3px 1px rgba(60, 64, 67, 0.15);\n",
              "      fill: #174EA6;\n",
              "    }\n",
              "\n",
              "    [theme=dark] .colab-df-convert {\n",
              "      background-color: #3B4455;\n",
              "      fill: #D2E3FC;\n",
              "    }\n",
              "\n",
              "    [theme=dark] .colab-df-convert:hover {\n",
              "      background-color: #434B5C;\n",
              "      box-shadow: 0px 1px 3px 1px rgba(0, 0, 0, 0.15);\n",
              "      filter: drop-shadow(0px 1px 2px rgba(0, 0, 0, 0.3));\n",
              "      fill: #FFFFFF;\n",
              "    }\n",
              "  </style>\n",
              "\n",
              "      <script>\n",
              "        const buttonEl =\n",
              "          document.querySelector('#df-8f08236d-495a-41f2-a95b-8e07fac140e0 button.colab-df-convert');\n",
              "        buttonEl.style.display =\n",
              "          google.colab.kernel.accessAllowed ? 'block' : 'none';\n",
              "\n",
              "        async function convertToInteractive(key) {\n",
              "          const element = document.querySelector('#df-8f08236d-495a-41f2-a95b-8e07fac140e0');\n",
              "          const dataTable =\n",
              "            await google.colab.kernel.invokeFunction('convertToInteractive',\n",
              "                                                     [key], {});\n",
              "          if (!dataTable) return;\n",
              "\n",
              "          const docLinkHtml = 'Like what you see? Visit the ' +\n",
              "            '<a target=\"_blank\" href=https://colab.research.google.com/notebooks/data_table.ipynb>data table notebook</a>'\n",
              "            + ' to learn more about interactive tables.';\n",
              "          element.innerHTML = '';\n",
              "          dataTable['output_type'] = 'display_data';\n",
              "          await google.colab.output.renderOutput(dataTable, element);\n",
              "          const docLink = document.createElement('div');\n",
              "          docLink.innerHTML = docLinkHtml;\n",
              "          element.appendChild(docLink);\n",
              "        }\n",
              "      </script>\n",
              "    </div>\n",
              "  </div>\n",
              "  "
            ]
          },
          "metadata": {},
          "execution_count": 601
        }
      ]
    },
    {
      "cell_type": "code",
      "source": [
        "from sklearn.model_selection import train_test_split\n",
        "X = data.drop(columns = [\"p\"])\n",
        "y = data['p']\n",
        "X_train, X_test, y_train, y_test = train_test_split(X, y, test_size=0.5, random_state=42)"
      ],
      "metadata": {
        "id": "7Caqm8C9g1IO"
      },
      "execution_count": 603,
      "outputs": []
    },
    {
      "cell_type": "code",
      "source": [
        "st = np.repeat(\"categorical\", 22)\n",
        "tree = DecisionTree(st)\n",
        "y_train = np.array(y_train)\n",
        "X_train = np.array(X_train)\n",
        "tree.fit(X_train, y_train)\n",
        "X_test = np.array(X_test)\n",
        "y_pred = tree.predict(X_test)"
      ],
      "metadata": {
        "id": "B6q5hBs_sjBg"
      },
      "execution_count": 604,
      "outputs": []
    },
    {
      "cell_type": "code",
      "source": [
        "res = 0\n",
        "y_test = np.array(y_test)\n",
        "for i in range(len(y_pred)):\n",
        "  if y_pred[i] == y_test[i]:\n",
        "    res += 1\n",
        "print(\"Accuracy: \", float(res) / len(y_pred))"
      ],
      "metadata": {
        "colab": {
          "base_uri": "https://localhost:8080/"
        },
        "id": "8NGgK7YluUxp",
        "outputId": "2b88c608-0dd9-4eb6-f882-fc0aa0ae13d1"
      },
      "execution_count": 605,
      "outputs": [
        {
          "output_type": "stream",
          "name": "stdout",
          "text": [
            "Accuracy:  1.0\n"
          ]
        }
      ]
    },
    {
      "cell_type": "markdown",
      "metadata": {
        "id": "7Y8bIfZ1VkQP"
      },
      "source": [
        "## Часть 3: Бэггинг и случайный лес (4 балла)"
      ]
    },
    {
      "cell_type": "markdown",
      "metadata": {
        "id": "cQEpxnaiVkQQ"
      },
      "source": [
        "В данной части мы будем работать [с задачей предсказания диабета у пациента](https://www.kaggle.com/uciml/pima-indians-diabetes-database/data). Посмотрим на работу бэггинга над решающими деревьями и случайного леса, сравним их работу."
      ]
    },
    {
      "cell_type": "code",
      "execution_count": 606,
      "metadata": {
        "id": "1FtYvlKKVkQQ"
      },
      "outputs": [],
      "source": [
        "from sklearn.ensemble import BaggingClassifier, RandomForestClassifier\n",
        "from sklearn.metrics import accuracy_score, precision_score, recall_score, roc_auc_score\n",
        "from sklearn.model_selection import train_test_split\n",
        "from sklearn.tree import DecisionTreeClassifier"
      ]
    },
    {
      "cell_type": "code",
      "execution_count": 607,
      "metadata": {
        "scrolled": true,
        "id": "CsfnTVtmVkQQ",
        "colab": {
          "base_uri": "https://localhost:8080/",
          "height": 217
        },
        "outputId": "7285ffb8-dd35-4dd5-d144-013510cdc9ef"
      },
      "outputs": [
        {
          "output_type": "stream",
          "name": "stdout",
          "text": [
            "Dataset shape: (768, 9)\n"
          ]
        },
        {
          "output_type": "execute_result",
          "data": {
            "text/plain": [
              "   Pregnancies  Glucose  BloodPressure  SkinThickness  Insulin   BMI  \\\n",
              "0            6      148             72             35        0  33.6   \n",
              "1            1       85             66             29        0  26.6   \n",
              "2            8      183             64              0        0  23.3   \n",
              "3            1       89             66             23       94  28.1   \n",
              "4            0      137             40             35      168  43.1   \n",
              "\n",
              "   DiabetesPedigreeFunction  Age  Outcome  \n",
              "0                     0.627   50        1  \n",
              "1                     0.351   31        0  \n",
              "2                     0.672   32        1  \n",
              "3                     0.167   21        0  \n",
              "4                     2.288   33        1  "
            ],
            "text/html": [
              "\n",
              "  <div id=\"df-5a9e0b40-9d12-4ee2-9518-18b419cf1b93\">\n",
              "    <div class=\"colab-df-container\">\n",
              "      <div>\n",
              "<style scoped>\n",
              "    .dataframe tbody tr th:only-of-type {\n",
              "        vertical-align: middle;\n",
              "    }\n",
              "\n",
              "    .dataframe tbody tr th {\n",
              "        vertical-align: top;\n",
              "    }\n",
              "\n",
              "    .dataframe thead th {\n",
              "        text-align: right;\n",
              "    }\n",
              "</style>\n",
              "<table border=\"1\" class=\"dataframe\">\n",
              "  <thead>\n",
              "    <tr style=\"text-align: right;\">\n",
              "      <th></th>\n",
              "      <th>Pregnancies</th>\n",
              "      <th>Glucose</th>\n",
              "      <th>BloodPressure</th>\n",
              "      <th>SkinThickness</th>\n",
              "      <th>Insulin</th>\n",
              "      <th>BMI</th>\n",
              "      <th>DiabetesPedigreeFunction</th>\n",
              "      <th>Age</th>\n",
              "      <th>Outcome</th>\n",
              "    </tr>\n",
              "  </thead>\n",
              "  <tbody>\n",
              "    <tr>\n",
              "      <th>0</th>\n",
              "      <td>6</td>\n",
              "      <td>148</td>\n",
              "      <td>72</td>\n",
              "      <td>35</td>\n",
              "      <td>0</td>\n",
              "      <td>33.6</td>\n",
              "      <td>0.627</td>\n",
              "      <td>50</td>\n",
              "      <td>1</td>\n",
              "    </tr>\n",
              "    <tr>\n",
              "      <th>1</th>\n",
              "      <td>1</td>\n",
              "      <td>85</td>\n",
              "      <td>66</td>\n",
              "      <td>29</td>\n",
              "      <td>0</td>\n",
              "      <td>26.6</td>\n",
              "      <td>0.351</td>\n",
              "      <td>31</td>\n",
              "      <td>0</td>\n",
              "    </tr>\n",
              "    <tr>\n",
              "      <th>2</th>\n",
              "      <td>8</td>\n",
              "      <td>183</td>\n",
              "      <td>64</td>\n",
              "      <td>0</td>\n",
              "      <td>0</td>\n",
              "      <td>23.3</td>\n",
              "      <td>0.672</td>\n",
              "      <td>32</td>\n",
              "      <td>1</td>\n",
              "    </tr>\n",
              "    <tr>\n",
              "      <th>3</th>\n",
              "      <td>1</td>\n",
              "      <td>89</td>\n",
              "      <td>66</td>\n",
              "      <td>23</td>\n",
              "      <td>94</td>\n",
              "      <td>28.1</td>\n",
              "      <td>0.167</td>\n",
              "      <td>21</td>\n",
              "      <td>0</td>\n",
              "    </tr>\n",
              "    <tr>\n",
              "      <th>4</th>\n",
              "      <td>0</td>\n",
              "      <td>137</td>\n",
              "      <td>40</td>\n",
              "      <td>35</td>\n",
              "      <td>168</td>\n",
              "      <td>43.1</td>\n",
              "      <td>2.288</td>\n",
              "      <td>33</td>\n",
              "      <td>1</td>\n",
              "    </tr>\n",
              "  </tbody>\n",
              "</table>\n",
              "</div>\n",
              "      <button class=\"colab-df-convert\" onclick=\"convertToInteractive('df-5a9e0b40-9d12-4ee2-9518-18b419cf1b93')\"\n",
              "              title=\"Convert this dataframe to an interactive table.\"\n",
              "              style=\"display:none;\">\n",
              "        \n",
              "  <svg xmlns=\"http://www.w3.org/2000/svg\" height=\"24px\"viewBox=\"0 0 24 24\"\n",
              "       width=\"24px\">\n",
              "    <path d=\"M0 0h24v24H0V0z\" fill=\"none\"/>\n",
              "    <path d=\"M18.56 5.44l.94 2.06.94-2.06 2.06-.94-2.06-.94-.94-2.06-.94 2.06-2.06.94zm-11 1L8.5 8.5l.94-2.06 2.06-.94-2.06-.94L8.5 2.5l-.94 2.06-2.06.94zm10 10l.94 2.06.94-2.06 2.06-.94-2.06-.94-.94-2.06-.94 2.06-2.06.94z\"/><path d=\"M17.41 7.96l-1.37-1.37c-.4-.4-.92-.59-1.43-.59-.52 0-1.04.2-1.43.59L10.3 9.45l-7.72 7.72c-.78.78-.78 2.05 0 2.83L4 21.41c.39.39.9.59 1.41.59.51 0 1.02-.2 1.41-.59l7.78-7.78 2.81-2.81c.8-.78.8-2.07 0-2.86zM5.41 20L4 18.59l7.72-7.72 1.47 1.35L5.41 20z\"/>\n",
              "  </svg>\n",
              "      </button>\n",
              "      \n",
              "  <style>\n",
              "    .colab-df-container {\n",
              "      display:flex;\n",
              "      flex-wrap:wrap;\n",
              "      gap: 12px;\n",
              "    }\n",
              "\n",
              "    .colab-df-convert {\n",
              "      background-color: #E8F0FE;\n",
              "      border: none;\n",
              "      border-radius: 50%;\n",
              "      cursor: pointer;\n",
              "      display: none;\n",
              "      fill: #1967D2;\n",
              "      height: 32px;\n",
              "      padding: 0 0 0 0;\n",
              "      width: 32px;\n",
              "    }\n",
              "\n",
              "    .colab-df-convert:hover {\n",
              "      background-color: #E2EBFA;\n",
              "      box-shadow: 0px 1px 2px rgba(60, 64, 67, 0.3), 0px 1px 3px 1px rgba(60, 64, 67, 0.15);\n",
              "      fill: #174EA6;\n",
              "    }\n",
              "\n",
              "    [theme=dark] .colab-df-convert {\n",
              "      background-color: #3B4455;\n",
              "      fill: #D2E3FC;\n",
              "    }\n",
              "\n",
              "    [theme=dark] .colab-df-convert:hover {\n",
              "      background-color: #434B5C;\n",
              "      box-shadow: 0px 1px 3px 1px rgba(0, 0, 0, 0.15);\n",
              "      filter: drop-shadow(0px 1px 2px rgba(0, 0, 0, 0.3));\n",
              "      fill: #FFFFFF;\n",
              "    }\n",
              "  </style>\n",
              "\n",
              "      <script>\n",
              "        const buttonEl =\n",
              "          document.querySelector('#df-5a9e0b40-9d12-4ee2-9518-18b419cf1b93 button.colab-df-convert');\n",
              "        buttonEl.style.display =\n",
              "          google.colab.kernel.accessAllowed ? 'block' : 'none';\n",
              "\n",
              "        async function convertToInteractive(key) {\n",
              "          const element = document.querySelector('#df-5a9e0b40-9d12-4ee2-9518-18b419cf1b93');\n",
              "          const dataTable =\n",
              "            await google.colab.kernel.invokeFunction('convertToInteractive',\n",
              "                                                     [key], {});\n",
              "          if (!dataTable) return;\n",
              "\n",
              "          const docLinkHtml = 'Like what you see? Visit the ' +\n",
              "            '<a target=\"_blank\" href=https://colab.research.google.com/notebooks/data_table.ipynb>data table notebook</a>'\n",
              "            + ' to learn more about interactive tables.';\n",
              "          element.innerHTML = '';\n",
              "          dataTable['output_type'] = 'display_data';\n",
              "          await google.colab.output.renderOutput(dataTable, element);\n",
              "          const docLink = document.createElement('div');\n",
              "          docLink.innerHTML = docLinkHtml;\n",
              "          element.appendChild(docLink);\n",
              "        }\n",
              "      </script>\n",
              "    </div>\n",
              "  </div>\n",
              "  "
            ]
          },
          "metadata": {},
          "execution_count": 607
        }
      ],
      "source": [
        "data = pd.read_csv('diabetes.csv')\n",
        "print(f\"Dataset shape: {data.shape}\")\n",
        "data.head()"
      ]
    },
    {
      "cell_type": "markdown",
      "metadata": {
        "id": "l76oN2yMVkQR"
      },
      "source": [
        "Посмотрим на распределение целевой переменной"
      ]
    },
    {
      "cell_type": "code",
      "execution_count": 608,
      "metadata": {
        "id": "YuGs720fVkQR",
        "colab": {
          "base_uri": "https://localhost:8080/",
          "height": 263
        },
        "outputId": "5cf93f0b-f8e7-4378-9a2d-2d8de88697d5"
      },
      "outputs": [
        {
          "output_type": "display_data",
          "data": {
            "text/plain": [
              "<Figure size 432x288 with 1 Axes>"
            ],
            "image/png": "[encoded data removed]"
          },
          "metadata": {
            "needs_background": "light"
          }
        }
      ],
      "source": [
        "data['Outcome'].hist()\n",
        "plt.show()"
      ]
    },
    {
      "cell_type": "markdown",
      "metadata": {
        "id": "r65g9CjJVkQR"
      },
      "source": [
        "**Задание 3.1 (0.5 балла)** Разделите данные на признаки и целевую переменную. Разбейте датасет на обучающую и тестовую части в отношении 7:3. Затем разделите обучающую выборку на обучающую-обучающую и обучающую-валидационную в соотношении 7:3 (то есть в итоге должно получиться три выборки: обучающая-обучающая (0.49 от исходного датасета), обучающая-валидационная (0.21 от исходного датасета) и тестовая (0.3 от исходного датасета)."
      ]
    },
    {
      "cell_type": "code",
      "execution_count": 609,
      "metadata": {
        "id": "pL_o71iQVkQR"
      },
      "outputs": [],
      "source": [
        "X = data.drop(columns = ['Outcome'])\n",
        "y = data['Outcome']\n",
        "X_train, X_test, y_train, y_test = train_test_split(X, y, test_size=0.3, random_state=42)\n",
        "X_train_tr, X_val, y_train_tr, y_val = train_test_split(X_train, y_train, test_size=0.3, random_state=42)"
      ]
    },
    {
      "cell_type": "markdown",
      "metadata": {
        "id": "CaUPP2QmVkQS"
      },
      "source": [
        "**Задание 3.2 (1 балл)** На обучающей-валидационной выборке подберите оптимальные значения гиперпараметров `max_depth` и `min_samples_leaf` для `DecisionTreeClassifier`. Для этого:\n",
        "1. Создайте списки с возможными значениями для перебора.\n",
        "2. Для каждой пары значений обучите дерево на обучающей-обучающей выборке и определите качество на обучающей-валидационной выборке. В качестве критерия будем использовать `f1-меру`.\n",
        "3. Выберите ту пару значений, которая даёт наилучшее качество на обучающей-валидационной выборке. \n",
        "\n",
        "\n",
        "Обучите решающее дерево с подобранными гиперпараметрами на **полной обучающей** выборке. Оцените качество классификации на тестовой выборке по метрикам `accuracy`, `precision` и `recall`, `auc_roc`."
      ]
    },
    {
      "cell_type": "code",
      "execution_count": 610,
      "metadata": {
        "id": "XXayEZHGVkQS"
      },
      "outputs": [],
      "source": [
        "from sklearn import tree\n",
        "from sklearn.tree import DecisionTreeClassifier\n",
        "from sklearn.metrics import f1_score"
      ]
    },
    {
      "cell_type": "code",
      "source": [
        "depths = np.linspace(0.1, 100, 100)\n",
        "min_samples_leaf = np.linspace(0.01, 0.5, 100)\n",
        "score = -1\n",
        "dp = 0\n",
        "mn = 0\n",
        "for i in depths:\n",
        "  for j in min_samples_leaf:\n",
        "    decision_tree = DecisionTreeClassifier(max_depth = i, min_samples_leaf = j)\n",
        "    decision_tree.fit(X_train_tr, y_train_tr)\n",
        "    y_pred = decision_tree.predict(X_val)\n",
        "    sc = f1_score(y_val, y_pred)\n",
        "    if sc > score:\n",
        "      score = sc\n",
        "      dp = i\n",
        "      mn = j\n",
        "print(\"Score is \", score, \"; depth is \", dp, \"; min_samples is \", mn)"
      ],
      "metadata": {
        "colab": {
          "base_uri": "https://localhost:8080/"
        },
        "id": "cRw63WQkxKVj",
        "outputId": "8c527241-b55d-45d5-9f96-58a7092ace81"
      },
      "execution_count": 611,
      "outputs": [
        {
          "output_type": "stream",
          "name": "stdout",
          "text": [
            "Score is  0.6771653543307088 ; depth is  1.1090909090909091 ; min_samples is  0.38616161616161615\n"
          ]
        }
      ]
    },
    {
      "cell_type": "code",
      "source": [
        "from sklearn.metrics import recall_score\n",
        "from sklearn.metrics import accuracy_score\n",
        "from sklearn.metrics import precision_score\n",
        "from sklearn.metrics import roc_auc_score\n",
        "from sklearn.metrics import f1_score\n",
        "\n",
        "decision_tree = DecisionTreeClassifier(max_depth = 1.109, min_samples_leaf = 0.386)\n",
        "decision_tree.fit(X_train, y_train)\n",
        "\n",
        "y_pred = decision_tree.predict(X_test)\n",
        "\n",
        "print(\"Recall is \", recall_score(y_pred, y_test))\n",
        "print(\"Accuracy is \", accuracy_score(y_pred, y_test))\n",
        "print(\"Precision is \", precision_score(y_pred, y_test))\n",
        "print(\"Roc_auc is \", roc_auc_score(y_pred, y_test))"
      ],
      "metadata": {
        "colab": {
          "base_uri": "https://localhost:8080/"
        },
        "id": "iC1nHnkAzbkt",
        "outputId": "071fb815-cc2c-4afe-8bbd-92edda9d73a2"
      },
      "execution_count": 612,
      "outputs": [
        {
          "output_type": "stream",
          "name": "stdout",
          "text": [
            "Recall is  0.5567010309278351\n",
            "Accuracy is  0.7012987012987013\n",
            "Precision is  0.675\n",
            "Roc_auc is  0.6813355900907831\n"
          ]
        }
      ]
    },
    {
      "cell_type": "markdown",
      "metadata": {
        "id": "I9uaFX5qVkQS"
      },
      "source": [
        "**Задание 3.3 (0.5 балла)** Обучите [`BaggingClassifier`](https://scikit-learn.org/stable/modules/generated/sklearn.ensemble.BaggingClassifier.html) на 50 деревьях на **полной обучающей** выборке. Оцените качество классификации на тестовой выборке по тем же метрикам."
      ]
    },
    {
      "cell_type": "code",
      "execution_count": 613,
      "metadata": {
        "id": "PNOdgaH_VkQS",
        "colab": {
          "base_uri": "https://localhost:8080/"
        },
        "outputId": "f583d2a9-6a26-4bfb-d981-3a1acd5bc749"
      },
      "outputs": [
        {
          "output_type": "stream",
          "name": "stdout",
          "text": [
            "Recall is  0.6235294117647059\n",
            "Accuracy is  0.7445887445887446\n",
            "Precision is  0.6625\n",
            "Roc_auc is  0.7192989524576954\n"
          ]
        }
      ],
      "source": [
        "from sklearn.ensemble import BaggingClassifier\n",
        "\n",
        "clf = BaggingClassifier(n_estimators=50).fit(X_train, y_train)\n",
        "\n",
        "y_pred = clf.predict(X_test)\n",
        "\n",
        "print(\"Recall is \", recall_score(y_pred, y_test))\n",
        "print(\"Accuracy is \", accuracy_score(y_pred, y_test))\n",
        "print(\"Precision is \", precision_score(y_pred, y_test))\n",
        "print(\"Roc_auc is \", roc_auc_score(y_pred, y_test))"
      ]
    },
    {
      "cell_type": "markdown",
      "metadata": {
        "id": "-xtG3Xe8VkQS"
      },
      "source": [
        "**Задание 3.4 (1 балл)** Выполните кросс-валидацию на полной обучающей выборке и подберите оптимальные значения гиперпараметров `max_depth` и `min_samples_split` для `Random Forest` с 50 деревьями. Для этого:\n",
        "\n",
        "1. Создайте списки с возможными значениями для перебора.\n",
        "2. Для каждой пары значений проведите кросс-валидацию на полной обучающей выборке. Количество разбиений выберите на ваш вкус. В качестве критерия будем использовать `f1-меру`. Усредните значение критерия по всем прогонам кросс-валидации. \n",
        "3. Выберите ту пару значений, которая даёт наилучшее среднее качество. \n",
        "\n",
        "Обучите случайный лес с подобранными гиперпараметрами на **полной обучающей** выборке. Оцените качество классификации по тем же метрикам. Какая из трёх построенных моделей показала себя лучше?"
      ]
    },
    {
      "cell_type": "code",
      "source": [
        "from sklearn.ensemble import RandomForestClassifier\n",
        "from sklearn.model_selection import cross_validate\n",
        "from sklearn.model_selection import cross_val_score"
      ],
      "metadata": {
        "id": "izPdpMO52V_k"
      },
      "execution_count": 614,
      "outputs": []
    },
    {
      "cell_type": "code",
      "execution_count": 615,
      "metadata": {
        "id": "oe3lOE1lVkQT",
        "colab": {
          "base_uri": "https://localhost:8080/"
        },
        "outputId": "bc88b2c3-6bdf-4912-9736-925338d2ddce"
      },
      "outputs": [
        {
          "output_type": "stream",
          "name": "stdout",
          "text": [
            "Score is  0.0 ; depth is  100.0 ; min_samples is  0.5\n",
            "Recall is  0.7083333333333334\n",
            "Accuracy is  0.696969696969697\n",
            "Precision is  0.2125\n",
            "Roc_auc is  0.7019927536231885\n"
          ]
        }
      ],
      "source": [
        "depths = np.linspace(0.1, 100, 10)\n",
        "min_samples_leaf = np.linspace(0.01, 0.5, 10)\n",
        "\n",
        "score = -1\n",
        "dp = 0\n",
        "mn = 0\n",
        "for i in depths:\n",
        "  for j in min_samples_leaf:\n",
        "    clf = RandomForestClassifier(max_depth=i, min_samples_split=j, n_estimators = 50)\n",
        "    mean_score = cross_val_score(clf, X_train, y_train, scoring=\"f1\", cv = 4).mean()\n",
        "    if mean_score > score:\n",
        "      score = sc\n",
        "      dp = i\n",
        "      mn = j\n",
        "print(\"Score is \", score, \"; depth is \", dp, \"; min_samples is \", mn)\n",
        "\n",
        "clf = RandomForestClassifier(max_depth=dp, min_samples_split=mn, n_estimators = 50)\n",
        "clf.fit(X_train, y_train)\n",
        "y_pred = clf.predict(X_test)\n",
        "\n",
        "print(\"Recall is \", recall_score(y_pred, y_test))\n",
        "print(\"Accuracy is \", accuracy_score(y_pred, y_test))\n",
        "print(\"Precision is \", precision_score(y_pred, y_test))\n",
        "print(\"Roc_auc is \", roc_auc_score(y_pred, y_test))"
      ]
    },
    {
      "cell_type": "markdown",
      "source": [
        "Лучшие - случайный лес и Bagging (почти одинаково)"
      ],
      "metadata": {
        "id": "Jqdj6L4b9p8Y"
      }
    },
    {
      "cell_type": "markdown",
      "metadata": {
        "id": "SHPikHIMVkQT"
      },
      "source": [
        "**Задание 3.5 (0.5 балла)** Постройте график зависимости AUC ROC на тестовой выборке от числа деревьев (`n_estimators`) для случайного леса, обучаемого на **полной обучающей** выборке. Какие выводы можно сделать?"
      ]
    },
    {
      "cell_type": "code",
      "execution_count": 617,
      "metadata": {
        "id": "QTY22mpwVkQT",
        "colab": {
          "base_uri": "https://localhost:8080/",
          "height": 280
        },
        "outputId": "21751a32-4778-4a4b-9060-a7cf2b3ebcf8"
      },
      "outputs": [
        {
          "output_type": "execute_result",
          "data": {
            "text/plain": [
              "[<matplotlib.lines.Line2D at 0x7f9ae0289510>]"
            ]
          },
          "metadata": {},
          "execution_count": 617
        },
        {
          "output_type": "display_data",
          "data": {
            "text/plain": [
              "<Figure size 432x288 with 1 Axes>"
            ],
            "image/png": "[encoded data removed]"
          },
          "metadata": {
            "needs_background": "light"
          }
        }
      ],
      "source": [
        "trees = np.linspace(1, 100, 20)\n",
        "res = []\n",
        "\n",
        "for i in trees:\n",
        "  clf = RandomForestClassifier(max_depth=dp, min_samples_split=mn, n_estimators = int(i))\n",
        "  clf.fit(X_train, y_train)\n",
        "  y_pred = clf.predict(X_test)\n",
        "  res.append(roc_auc_score(y_pred, y_test))\n",
        "\n",
        "plt.plot(trees, res)"
      ]
    },
    {
      "cell_type": "markdown",
      "source": [
        "Мало деревьев - очень плохо; слишком много - плохо"
      ],
      "metadata": {
        "id": "5jhq67wW9jpF"
      }
    },
    {
      "cell_type": "markdown",
      "metadata": {
        "id": "_FYACU8xVkQT"
      },
      "source": [
        "**Задание 3.6 (0.5 балла)** Для лучшей модели случайного леса из **Задания 3.4** посчитайте важность признаков и постройте bar plot. Какой признак оказался самым важным для определения диабета?"
      ]
    },
    {
      "cell_type": "code",
      "execution_count": 618,
      "metadata": {
        "id": "kLTUiprqVkQT",
        "colab": {
          "base_uri": "https://localhost:8080/"
        },
        "outputId": "3057a2f5-655e-4387-f641-ac4cb3e43724"
      },
      "outputs": [
        {
          "output_type": "stream",
          "name": "stdout",
          "text": [
            "[0.04213331 0.26338684 0.1        0.0226069  0.04151169 0.31036127\n",
            " 0.02       0.2       ]\n"
          ]
        }
      ],
      "source": [
        "clf = RandomForestClassifier(max_depth=dp, min_samples_split=mn, n_estimators = 50)\n",
        "clf.fit(X_train, y_train)\n",
        "importances = clf.feature_importances_\n",
        "print(importances)"
      ]
    },
    {
      "cell_type": "markdown",
      "source": [
        "Важна глюкоза и BMI"
      ],
      "metadata": {
        "id": "dp-pLwMX9byY"
      }
    },
    {
      "cell_type": "code",
      "source": [
        "df = data.drop(columns = ['Outcome'])\n",
        "\n",
        "forest_importances = pd.Series(importances, index=df.columns)\n",
        "\n",
        "fig, ax = plt.subplots()\n",
        "std = np.std([tree.feature_importances_ for tree in clf.estimators_], axis=0)\n",
        "forest_importances.plot.bar(yerr=std, ax=ax)\n",
        "ax.set_title(\"Feature importances using MDI\")\n",
        "ax.set_ylabel(\"Mean decrease in impurity\")\n",
        "fig.tight_layout()"
      ],
      "metadata": {
        "colab": {
          "base_uri": "https://localhost:8080/",
          "height": 296
        },
        "id": "KJ1LfkzI8u0w",
        "outputId": "fe4ab862-fded-4656-d73f-35463da617fe"
      },
      "execution_count": 619,
      "outputs": [
        {
          "output_type": "display_data",
          "data": {
            "text/plain": [
              "<Figure size 432x288 with 1 Axes>"
            ],
            "image/png": "[encoded data removed]"
          },
          "metadata": {
            "needs_background": "light"
          }
        }
      ]
    }
  ],
  "metadata": {
    "kernelspec": {
      "display_name": "Python 3 (ipykernel)",
      "language": "python",
      "name": "python3"
    },
    "language_info": {
      "codemirror_mode": {
        "name": "ipython",
        "version": 3
      },
      "file_extension": ".py",
      "mimetype": "text/x-python",
      "name": "python",
      "nbconvert_exporter": "python",
      "pygments_lexer": "ipython3",
      "version": "3.8.13"
    },
    "colab": {
      "name": "Копия блокнота \"hw07-trees-rf.ipynb\"",
      "provenance": [],
      "collapsed_sections": []
    }
  },
  "nbformat": 4,
  "nbformat_minor": 0
}